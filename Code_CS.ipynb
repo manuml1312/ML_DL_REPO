{
  "cells": [
    {
      "cell_type": "markdown",
      "metadata": {
        "id": "Q8DTeG7wktO2"
      },
      "source": [
        "# Merge Sort"
      ]
    },
    {
      "cell_type": "code",
      "execution_count": 16,
      "metadata": {
        "id": "kUUmQkBNstVs"
      },
      "outputs": [],
      "source": [
        "def merge(A,p,m,r):\n",
        "    n1=m-p+1\n",
        "    n2=r-m\n",
        "    L=[0]*(n1+1)\n",
        "    R=[0]*(n2+1)\n",
        "    for i in range(0,n1):\n",
        "        L[i]=A[p+i]\n",
        "    for j in range (0,n2):\n",
        "        R[j]=A[m+1+j]\n",
        "    L[n1]=100000\n",
        "    R[n2]=100000\n",
        "    i=0\n",
        "    j=0\n",
        "    for k in range(p,r+1):\n",
        "        if L[i]<=R[j]:\n",
        "            A[k]=L[i]\n",
        "            i=i+1\n",
        "        else:\n",
        "            A[k]=R[j]\n",
        "            j=j+1\n",
        "\n",
        "def mergeSort(A,p,r):\n",
        "    if p<r:\n",
        "        m=(p+r)//2\n",
        "        mergeSort(A,p,m)\n",
        "        mergeSort(A,m+1,r)\n",
        "        merge(A,p,m,r)"
      ]
    },
    {
      "cell_type": "code",
      "execution_count": 18,
      "metadata": {},
      "outputs": [],
      "source": [
        "def merge(A,p,m,r):\n",
        "    n1=m-p+1\n",
        "    n2=r-m\n",
        "    L=[0]*(n1+1)\n",
        "    R=[0]*(n2+1)\n",
        "    for i in range(0,n1):\n",
        "        L[i]=A[p+i]\n",
        "    for j in range(0,n2):\n",
        "        R[j]=A[m+1+j]\n",
        "    L[n1]=100000\n",
        "    R[n2]=100000\n",
        "    i=0\n",
        "    j=0\n",
        "    for k in range(p,r+1):\n",
        "        if L[i]<=R[j]:\n",
        "            A[k]=L[i]\n",
        "            i=i+1\n",
        "        else:\n",
        "            A[k]=R[j]\n",
        "            j=j+1\n",
        "            # k=k+1\n",
        "    \n",
        "\n",
        "def mergeSort(A,p,r):\n",
        "    if p<r:\n",
        "        m=(p+r)//2\n",
        "        mergeSort(A,p,m)\n",
        "        mergeSort(A,m+1,r)\n",
        "        merge(A,p,m,r)"
      ]
    },
    {
      "cell_type": "code",
      "execution_count": 19,
      "metadata": {
        "colab": {
          "base_uri": "https://localhost:8080/"
        },
        "id": "jWlDgGWztQom",
        "outputId": "03ec35a6-ec70-4b9e-e383-27579f5718e3"
      },
      "outputs": [
        {
          "name": "stdout",
          "output_type": "stream",
          "text": [
            "[0, 1, 2, 2, 3, 6, 8, 8, 8, 23, 33, 56, 67, 69, 89, 99, 111, 333]\n",
            "18\n"
          ]
        }
      ],
      "source": [
        "A=[2,56,8,111,3,67,23,89,69,1,0,333,6,8,33,8,2,99]\n",
        "n=len(A)\n",
        "mergeSort(A,0,n-1)\n",
        "print(A)\n",
        "print(n)"
      ]
    },
    {
      "cell_type": "markdown",
      "metadata": {
        "id": "E4YplP6XkxMJ"
      },
      "source": [
        "# Quick Sort"
      ]
    },
    {
      "cell_type": "code",
      "execution_count": 1,
      "metadata": {
        "id": "Ehp9iL7ScXlv"
      },
      "outputs": [],
      "source": [
        "def partition(A,p,r):\n",
        "    x=A[r]\n",
        "    i=p-1\n",
        "    for j in range(p,r):\n",
        "        if (A[j]<=x):\n",
        "            i=i+1\n",
        "            A[i],A[j]=A[j],A[i]\n",
        "    A[i+1],A[r]=A[r],A[i+1]\n",
        "    return i+1\n",
        "\n",
        "# def partition(A):\n",
        "#     x=A[-1]\n",
        "#     i=-1\n",
        "#     for j in range(0,len(A)-1):\n",
        "#         if (A[j]<=x):\n",
        "#             i=i+1\n",
        "#             A[i],A[j]=A[j],A[i]\n",
        "#     A[i+1],A[-1]=A[-1],A[i+1]\n",
        "#     return i+1"
      ]
    },
    {
      "cell_type": "code",
      "execution_count": 1,
      "metadata": {},
      "outputs": [],
      "source": [
        "def partition(A,p,r):\n",
        "    x=A[r]\n",
        "    i=p-1\n",
        "    for j in range(p,r):\n",
        "        if (A[j]<=x):\n",
        "            i=i+1\n",
        "            A[i],A[j]=A[j],A[i]\n",
        "    A[i+1],A[r]=A[r],A[i+1]\n",
        "    return i+1\n",
        "\n",
        "def quicksort(A,p,r):\n",
        "    if p<r:\n",
        "        q=partition(A,p,r)\n",
        "        quicksort(A,p,q-1)\n",
        "        quicksort(A,q+1,r)\n"
      ]
    },
    {
      "cell_type": "code",
      "execution_count": 2,
      "metadata": {
        "id": "oy3x8KTLcZxr"
      },
      "outputs": [],
      "source": [
        "def quicksort(A,p,r):\n",
        "    if p<r:\n",
        "        p1=partition(A,p,r)\n",
        "        quicksort(A,p,p1-1)\n",
        "        quicksort(A,p1+1,r)"
      ]
    },
    {
      "cell_type": "code",
      "execution_count": 2,
      "metadata": {
        "colab": {
          "base_uri": "https://localhost:8080/"
        },
        "id": "_or0buwicmBN",
        "outputId": "6dcb70da-3ac9-4b7e-fed0-67058b0e80f2"
      },
      "outputs": [],
      "source": [
        "A=[10,80,30,90,40,50,70]\n",
        "quicksort(A,0,len(A)-1)"
      ]
    },
    {
      "cell_type": "code",
      "execution_count": 3,
      "metadata": {
        "colab": {
          "base_uri": "https://localhost:8080/"
        },
        "id": "cMt-64r7coBn",
        "outputId": "515c1ce1-9424-4405-b91a-e017077e423a"
      },
      "outputs": [
        {
          "name": "stdout",
          "output_type": "stream",
          "text": [
            "[10, 30, 40, 50, 70, 80, 90]\n"
          ]
        }
      ],
      "source": [
        "print(A)"
      ]
    },
    {
      "cell_type": "markdown",
      "metadata": {},
      "source": [
        "# QuickSelect\n",
        "\n",
        "To find the kth smallest element in the array"
      ]
    },
    {
      "cell_type": "code",
      "execution_count": 25,
      "metadata": {},
      "outputs": [
        {
          "name": "stdout",
          "output_type": "stream",
          "text": [
            "333\n"
          ]
        }
      ],
      "source": [
        "def partition(A,p,r):\n",
        "  x=A[r]\n",
        "  i=p-1\n",
        "  for j in range(p,r):\n",
        "    if A[j]<=x:\n",
        "      i=i+1\n",
        "      A[i],A[j]=A[j],A[i]\n",
        "  A[i+1],A[r]=A[r],A[i+1]\n",
        "  return i+1\n",
        "    \n",
        "\n",
        "def quickselect(A,p,r,k):\n",
        "  if p<r:\n",
        "    pivot=partition(A,p,r)\n",
        "    if pivot==k-1:\n",
        "      return A[pivot+1]\n",
        "    elif pivot>k-1:\n",
        "      return quickselect(A,p,pivot-1,k)\n",
        "    else:\n",
        "      return quickselect(A,pivot+1,r,k)\n",
        "    \n",
        " \n",
        "A=[22,3,222,333,11,1]\n",
        "k = 6\n",
        "result = quickselect(A,0,len(A)-1,k-1)\n",
        "print(result)"
      ]
    },
    {
      "cell_type": "code",
      "execution_count": null,
      "metadata": {},
      "outputs": [],
      "source": [
        "from docx import Document\n",
        "\n",
        "document = Document('test_doc.docx')\n",
        "print(document.paragraphs)"
      ]
    },
    {
      "cell_type": "code",
      "execution_count": 1,
      "metadata": {},
      "outputs": [
        {
          "name": "stdout",
          "output_type": "stream",
          "text": [
            "Collecting docx\n",
            "  Downloading docx-0.2.4.tar.gz (54 kB)\n",
            "     -------------------------------------- 54.9/54.9 kB 572.9 kB/s eta 0:00:00\n",
            "  Preparing metadata (setup.py): started\n",
            "  Preparing metadata (setup.py): finished with status 'done'\n",
            "Requirement already satisfied: lxml in c:\\users\\manu\\lib\\site-packages (from docx) (5.1.0)\n",
            "Requirement already satisfied: Pillow>=2.0 in c:\\users\\manu\\lib\\site-packages (from docx) (10.2.0)\n",
            "Building wheels for collected packages: docx\n",
            "  Building wheel for docx (setup.py): started\n",
            "  Building wheel for docx (setup.py): finished with status 'done'\n",
            "  Created wheel for docx: filename=docx-0.2.4-py3-none-any.whl size=53924 sha256=94b7684bf8df7dacb8a2ebd54865d2564074d39495beb3fe028d90799ba5d8b4\n",
            "  Stored in directory: c:\\users\\manu\\appdata\\local\\pip\\cache\\wheels\\81\\f5\\1d\\e09ba2c1907a43a4146d1189ae4733ca1a3bfe27ee39507767\n",
            "Successfully built docx\n",
            "Installing collected packages: docx\n",
            "Successfully installed docx-0.2.4\n"
          ]
        },
        {
          "name": "stderr",
          "output_type": "stream",
          "text": [
            "\n",
            "[notice] A new release of pip available: 22.2.2 -> 24.2\n",
            "[notice] To update, run: python.exe -m pip install --upgrade pip\n"
          ]
        }
      ],
      "source": [
        "!pip install docx"
      ]
    },
    {
      "cell_type": "code",
      "execution_count": null,
      "metadata": {},
      "outputs": [],
      "source": []
    }
  ],
  "metadata": {
    "colab": {
      "provenance": []
    },
    "kernelspec": {
      "display_name": "Python 3",
      "name": "python3"
    },
    "language_info": {
      "codemirror_mode": {
        "name": "ipython",
        "version": 3
      },
      "file_extension": ".py",
      "mimetype": "text/x-python",
      "name": "python",
      "nbconvert_exporter": "python",
      "pygments_lexer": "ipython3",
      "version": "3.10.5"
    }
  },
  "nbformat": 4,
  "nbformat_minor": 0
}
