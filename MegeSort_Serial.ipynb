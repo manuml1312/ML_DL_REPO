{
  "nbformat": 4,
  "nbformat_minor": 0,
  "metadata": {
    "colab": {
      "provenance": []
    },
    "kernelspec": {
      "name": "python3",
      "display_name": "Python 3"
    },
    "language_info": {
      "name": "python"
    }
  },
  "cells": [
    {
      "cell_type": "code",
      "execution_count": null,
      "metadata": {
        "id": "GsvLgwhtk0AS",
        "colab": {
          "base_uri": "https://localhost:8080/"
        },
        "outputId": "c018e0ae-c5bf-4797-f8ff-feee5f8da9d4"
      },
      "outputs": [
        {
          "output_type": "stream",
          "name": "stdout",
          "text": [
            "Given array is\n",
            "12  \n",
            "11  \n",
            "13  \n",
            "5  \n",
            "6  \n",
            "7  \n",
            "\n",
            "\n",
            "Sorted array is\n",
            "5  \n",
            "6  \n",
            "7  \n",
            "11  \n",
            "12  \n",
            "13  \n"
          ]
        }
      ],
      "source": [
        "#Sequential Merge Sort using Recursion\n",
        "#Divide and Conquer approach is used to sort a given array of elements\n",
        "\n",
        "def merge(A,l,m,r):\n",
        "\n",
        "  n1=m-l+1  #Number of elements in the first subarray\n",
        "  n2=r-m    #Number of elements in the second subarray\n",
        "\n",
        "  # Create two temporary arrays L[] and R[]\n",
        "  L=[0]*(n1+1)\n",
        "  R=[0]*(n2+1)\n",
        "\n",
        "  # Copy data to temp arrays L[] and R[]\n",
        "  for i in range(0,n1):\n",
        "    L[i]=A[l+i]\n",
        "  for j in range(0,n2):\n",
        "    R[j]=A[m+1+j]\n",
        "\n",
        "  # Copy a very large value to the end of L[] and R[]\n",
        "  L[n1]=100000\n",
        "  R[n2]=100000\n",
        "\n",
        "  i=0 # Initial index of first subarray\n",
        "  j=0 # Initial index of second subarray\n",
        "\n",
        "  # Merge the temp arrays back into A[l..r]\n",
        "  for k in range(l,r+1):      //k is the index of the merged array A\n",
        "    if L[i]<=R[j]:\n",
        "      A[k]=L[i]\n",
        "      i=i+1\n",
        "    else:\n",
        "      A[k]=R[j]\n",
        "      j=j+1\n",
        "    k=k+1\n",
        "\n",
        "\n",
        "#Recursive function mergeSort()\n",
        "def mergeSort(A,l,r):\n",
        "  if l<r:\n",
        "    m=(l+r)//2\n",
        "    mergeSort(A,l,m)   # Sort first half\n",
        "    mergeSort(A,m+1,r) # Sort second half\n",
        "    merge(A,l,m,r)     # Merge the two halves\n",
        "\n",
        "# Driver code\n",
        "A=[12,11,13,5,6,7]\n",
        "n=len(A)\n",
        "\n",
        "print(\"Given array is\")\n",
        "for i in range(n):\n",
        "\tprint(A[i],\" \")\n",
        "\n",
        "mergeSort(A,0,n-1)\n",
        "\n",
        "print(\"\\n\\nSorted array is\")\n",
        "for i in range(n):\n",
        "\tprint(A[i],\" \")\n",
        "\n",
        "\n"
      ]
    }
  ]
}