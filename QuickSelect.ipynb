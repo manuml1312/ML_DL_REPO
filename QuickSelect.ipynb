{
  "cells": [
    {
      "cell_type": "code",
      "execution_count": 1,
      "metadata": {
        "colab": {
          "base_uri": "https://localhost:8080/"
        },
        "id": "Z4QvEMHGWkYy",
        "outputId": "2f88d411-1620-4535-85b5-d81500a0abff"
      },
      "outputs": [
        {
          "name": "stdout",
          "output_type": "stream",
          "text": [
            "Given array is\n",
            "10 7 8 9 1 5 \n",
            "Read k\n"
          ]
        },
        {
          "ename": "ValueError",
          "evalue": "invalid literal for int() with base 10: ''",
          "output_type": "error",
          "traceback": [
            "\u001b[1;31m---------------------------------------------------------------------------\u001b[0m",
            "\u001b[1;31mValueError\u001b[0m                                Traceback (most recent call last)",
            "Input \u001b[1;32mIn [1]\u001b[0m, in \u001b[0;36m<cell line: 42>\u001b[1;34m()\u001b[0m\n\u001b[0;32m     45\u001b[0m print_array(arr)\n\u001b[0;32m     47\u001b[0m \u001b[38;5;28mprint\u001b[39m(\u001b[38;5;124m\"\u001b[39m\u001b[38;5;124mRead k\u001b[39m\u001b[38;5;124m\"\u001b[39m);\n\u001b[1;32m---> 48\u001b[0m k\u001b[38;5;241m=\u001b[39m\u001b[38;5;28;43mint\u001b[39;49m\u001b[43m(\u001b[49m\u001b[38;5;28;43minput\u001b[39;49m\u001b[43m(\u001b[49m\u001b[43m)\u001b[49m\u001b[43m)\u001b[49m\n\u001b[0;32m     51\u001b[0m \u001b[38;5;28mprint\u001b[39m(\u001b[38;5;124m\"\u001b[39m\u001b[38;5;130;01m\\n\u001b[39;00m\u001b[38;5;124mThe kth smallest element is \u001b[39m\u001b[38;5;124m\"\u001b[39m);\n\u001b[0;32m     52\u001b[0m \u001b[38;5;28mprint\u001b[39m(quick_select(arr, \u001b[38;5;241m0\u001b[39m, \u001b[38;5;28mlen\u001b[39m(arr) \u001b[38;5;241m-\u001b[39m \u001b[38;5;241m1\u001b[39m,k))\n",
            "\u001b[1;31mValueError\u001b[0m: invalid literal for int() with base 10: ''"
          ]
        }
      ],
      "source": [
        "# Python program for implementation of QuickSort\n",
        "def partition(arr, low, high):\n",
        "\n",
        "    # Choose the pivot\n",
        "    pivot = arr[high]\n",
        "\n",
        "    i = low - 1\n",
        "\n",
        "    # Traverse arr[low..high] and move all smaller\n",
        "    # elements on the left side. Elements from low to\n",
        "    # i are smaller after every iteration\n",
        "    for j in range(low, high):\n",
        "        if arr[j] < pivot:\n",
        "            i += 1\n",
        "            arr[i], arr[j] = arr[j], arr[i]\n",
        "\n",
        "    # Move pivot after smaller elements and\n",
        "    # return its position\n",
        "    arr[i + 1], arr[high] = arr[high], arr[i + 1]\n",
        "    return i + 1\n",
        "\n",
        "# The QuickSort function implementation\n",
        "def quick_select(arr, low, high, k):\n",
        "    if low <= high:\n",
        "        # pi is the partition return index of pivot\n",
        "        pi = partition(arr, low, high)\n",
        "\n",
        "        if(pi==k-1):\n",
        "          return arr[pi]\n",
        "        if (pi>k-1):\n",
        "          return quick_select(arr, low, pi - 1, k)\n",
        "        else:\n",
        "          return quick_select(arr, pi + 1, high, k)\n",
        "\n",
        "# Function to print an array\n",
        "def print_array(arr):\n",
        "    for i in arr:\n",
        "        print(i, end=\" \")\n",
        "    print()\n",
        "\n",
        "# Driver code\n",
        "if __name__ == \"__main__\":\n",
        "    arr = [10, 7, 8, 9, 1, 5]\n",
        "    print(\"Given array is\")\n",
        "    print_array(arr)\n",
        "\n",
        "    print(\"Read k\");\n",
        "    k=int(input())\n",
        "\n",
        "\n",
        "    print(\"\\nThe kth smallest element is \");\n",
        "    print(quick_select(arr, 0, len(arr) - 1,k))\n"
      ]
    },
    {
      "cell_type": "code",
      "execution_count": null,
      "metadata": {},
      "outputs": [],
      "source": []
    }
  ],
  "metadata": {
    "colab": {
      "provenance": []
    },
    "kernelspec": {
      "display_name": "Python 3",
      "name": "python3"
    },
    "language_info": {
      "codemirror_mode": {
        "name": "ipython",
        "version": 3
      },
      "file_extension": ".py",
      "mimetype": "text/x-python",
      "name": "python",
      "nbconvert_exporter": "python",
      "pygments_lexer": "ipython3",
      "version": "3.10.5"
    }
  },
  "nbformat": 4,
  "nbformat_minor": 0
}
