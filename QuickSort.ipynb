{
  "nbformat": 4,
  "nbformat_minor": 0,
  "metadata": {
    "colab": {
      "provenance": []
    },
    "kernelspec": {
      "name": "python3",
      "display_name": "Python 3"
    },
    "language_info": {
      "name": "python"
    }
  },
  "cells": [
    {
      "cell_type": "code",
      "source": [
        "def partition(a,l,h):\n",
        "  pivot=a[h]\n",
        "\n",
        "  i=l-1\n",
        "  for j in range(l,h):\n",
        "    if(a[j]<pivot):\n",
        "      i+=1\n",
        "      a[i],a[j]=a[j],a[i]\n",
        "\n",
        "  a[i+1],a[h]=a[h],a[i+1]\n",
        "  return i+1"
      ],
      "metadata": {
        "id": "JPswK3nwAIMq"
      },
      "execution_count": null,
      "outputs": []
    },
    {
      "cell_type": "code",
      "source": [
        "def quickselect(a,l,h,k):\n",
        "    if(l<=h):\n",
        "      pi=partition(a,l,h)\n",
        "      if(pi==k-1):\n",
        "        return a[pi]\n",
        "      elif(pi>k-1):\n",
        "        return quickselect(a,l,pi-1,k)\n",
        "      else:\n",
        "        return quickselect(a,pi+1,h,k)"
      ],
      "metadata": {
        "id": "stkmQ-tdCn_K"
      },
      "execution_count": null,
      "outputs": []
    },
    {
      "cell_type": "code",
      "execution_count": null,
      "metadata": {
        "colab": {
          "base_uri": "https://localhost:8080/"
        },
        "id": "LvcGFgQ9AHfN",
        "outputId": "82cd32b4-dff4-4537-cc4c-21d96a8f2a8d"
      },
      "outputs": [
        {
          "output_type": "stream",
          "name": "stdout",
          "text": [
            "\n",
            "Given Array\n",
            "\n",
            "2\n",
            "1\n",
            "8\n",
            "9\n",
            "10\n",
            "\n",
            "Enter the value for k\n",
            "\n",
            "2\n",
            "\n",
            "Element is \n",
            "\n",
            "2\n"
          ]
        }
      ],
      "source": [
        "  a=[2,1,8,9,10]\n",
        "  print(\"\\nGiven Array\\n\")\n",
        "  for i in a:\n",
        "    print(i)\n",
        "  print(\"\\nEnter the value for k\\n\")\n",
        "  k=int(input())\n",
        "  print(\"\\nElement is \\n\")\n",
        "  print(quickselect(a,0,len(a)-1,k))"
      ]
    }
  ]
}