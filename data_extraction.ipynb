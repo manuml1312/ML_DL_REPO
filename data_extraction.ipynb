{
 "cells": [
  {
   "cell_type": "code",
   "execution_count": 1,
   "id": "e74fdfa7",
   "metadata": {},
   "outputs": [],
   "source": [
    "import os\n",
    "import json"
   ]
  },
  {
   "cell_type": "code",
   "execution_count": 3,
   "id": "b980c93a",
   "metadata": {},
   "outputs": [],
   "source": [
    "path_1=['D:\\\\Project_DLTM\\\\FakeHealth-master\\\\dataset\\\\content\\\\HealthRelease',\n",
    "      'D:\\\\Project_DLTM\\\\FakeHealth-master\\\\dataset\\\\content\\\\HealthStory']\n",
    "path_2=['D:\\\\Project_DLTM\\\\FakeHealth-master\\\\dataset\\\\reviews\\\\HealthRelease.json','D:\\\\Project_DLTM\\\\FakeHealth-master\\\\dataset\\\\reviews\\\\HealthStory']"
   ]
  },
  {
   "cell_type": "markdown",
   "id": "e544aac6",
   "metadata": {},
   "source": [
    "# FakeHealth Dataset"
   ]
  },
  {
   "cell_type": "code",
   "execution_count": null,
   "id": "0adefd98",
   "metadata": {},
   "outputs": [],
   "source": [
    "import os\n",
    "import json\n",
    "\n",
    "def json_data(path_1):\n",
    "    data = dict()\n",
    "    news_id=[]\n",
    "\n",
    "    \n",
    "    for path in path_1:\n",
    "        for file in os.listdir(path):\n",
    "            if file.endswith('.json'):\n",
    "                news_id.append(file[:-5])\n",
    "                file_path = os.path.join(path, file)\n",
    "                with open(file_path, 'r', encoding='utf-8') as f:\n",
    "                    try:\n",
    "                        file_data = json.load(f)\n",
    "                    except json.JSONDecodeError:\n",
    "                        print(f\"Skipping invalid or empty JSON file: {file}\")\n",
    "                        continue\n",
    "\n",
    "                    if not data:\n",
    "                        # First file: initialize structure with lists\n",
    "                        data = {key: [value] for key, value in file_data.items()}\n",
    "                    else:\n",
    "                        # Next files: append values to existing lists\n",
    "                        for key in data:\n",
    "                            if key in file_data:\n",
    "                                data[key].append(file_data[key])\n",
    "                            else:\n",
    "                                print(f\"Missing key '{key}' in file: {file}\")\n",
    "                                data[key].append(None)  # or raise an error\n",
    "                    \n",
    "    return data,news_id\n",
    "\n",
    "data,news_id=json_data(path_1)"
   ]
  },
  {
   "cell_type": "code",
   "execution_count": null,
   "id": "5bad3c24",
   "metadata": {},
   "outputs": [],
   "source": []
  },
  {
   "cell_type": "code",
   "execution_count": 12,
   "id": "4ae36cb8",
   "metadata": {},
   "outputs": [
    {
     "data": {
      "text/html": [
       "<div>\n",
       "<style scoped>\n",
       "    .dataframe tbody tr th:only-of-type {\n",
       "        vertical-align: middle;\n",
       "    }\n",
       "\n",
       "    .dataframe tbody tr th {\n",
       "        vertical-align: top;\n",
       "    }\n",
       "\n",
       "    .dataframe thead th {\n",
       "        text-align: right;\n",
       "    }\n",
       "</style>\n",
       "<table border=\"1\" class=\"dataframe\">\n",
       "  <thead>\n",
       "    <tr style=\"text-align: right;\">\n",
       "      <th></th>\n",
       "      <th>url</th>\n",
       "      <th>text</th>\n",
       "      <th>images</th>\n",
       "      <th>top_img</th>\n",
       "      <th>keywords</th>\n",
       "      <th>authors</th>\n",
       "      <th>canonical_link</th>\n",
       "      <th>title</th>\n",
       "      <th>meta_data</th>\n",
       "      <th>movies</th>\n",
       "      <th>publish_date</th>\n",
       "      <th>source</th>\n",
       "      <th>summary</th>\n",
       "      <th>news_id</th>\n",
       "    </tr>\n",
       "  </thead>\n",
       "  <tbody>\n",
       "    <tr>\n",
       "      <th>2235</th>\n",
       "      <td>http://www.CNN.com/2009/HEALTH/12/11/bionic.ey...</td>\n",
       "      <td>(CNN) -- As a thick, gray haze began to descen...</td>\n",
       "      <td>[http://www.CNN.com/video/health/2009/12/11/gu...</td>\n",
       "      <td>http://i.cdn.turner.com/cnn/.element/img/3.0/g...</td>\n",
       "      <td>[]</td>\n",
       "      <td>[Stephanie Smith, Cnn Medical Producer]</td>\n",
       "      <td>http://www.cnn.com/2009/HEALTH/12/11/bionic.ey...</td>\n",
       "      <td>Artificial retina gives woman limited vision a...</td>\n",
       "      <td>{'TITLE': 'Artificial retina gives woman limit...</td>\n",
       "      <td>[]</td>\n",
       "      <td>NaN</td>\n",
       "      <td>http://www.CNN.com</td>\n",
       "      <td></td>\n",
       "      <td>story_reviews_01698</td>\n",
       "    </tr>\n",
       "    <tr>\n",
       "      <th>2236</th>\n",
       "      <td>http://www.usatoday.com/news/health/2009-12-10...</td>\n",
       "      <td>FORUM: LIVING WITH CANCER FORUM: LIVING WITH C...</td>\n",
       "      <td>[http://i.usatoday.net/marketing/email/_notche...</td>\n",
       "      <td>http://i.usatoday.net/_common/_images/favicon.ico</td>\n",
       "      <td>[]</td>\n",
       "      <td>[]</td>\n",
       "      <td></td>\n",
       "      <td>Studies: Bone drugs may help prevent breast ca...</td>\n",
       "      <td>{'ROBOTS': 'NOODP, NOYDIR', 'pubdate': 'Dec 10...</td>\n",
       "      <td>[]</td>\n",
       "      <td>1.260421e+09</td>\n",
       "      <td>http://www.usatoday.com</td>\n",
       "      <td></td>\n",
       "      <td>story_reviews_01699</td>\n",
       "    </tr>\n",
       "  </tbody>\n",
       "</table>\n",
       "</div>"
      ],
      "text/plain": [
       "                                                    url  ...              news_id\n",
       "2235  http://www.CNN.com/2009/HEALTH/12/11/bionic.ey...  ...  story_reviews_01698\n",
       "2236  http://www.usatoday.com/news/health/2009-12-10...  ...  story_reviews_01699\n",
       "\n",
       "[2 rows x 14 columns]"
      ]
     },
     "execution_count": 12,
     "metadata": {},
     "output_type": "execute_result"
    }
   ],
   "source": [
    "import pandas as pd\n",
    "\n",
    "df=pd.DataFrame(data)\n",
    "df['news_id']=news_id\n",
    "df.tail(2)"
   ]
  },
  {
   "cell_type": "code",
   "execution_count": 14,
   "id": "16eb8ba3",
   "metadata": {},
   "outputs": [
    {
     "data": {
      "text/html": [
       "<div>\n",
       "<style scoped>\n",
       "    .dataframe tbody tr th:only-of-type {\n",
       "        vertical-align: middle;\n",
       "    }\n",
       "\n",
       "    .dataframe tbody tr th {\n",
       "        vertical-align: top;\n",
       "    }\n",
       "\n",
       "    .dataframe thead th {\n",
       "        text-align: right;\n",
       "    }\n",
       "</style>\n",
       "<table border=\"1\" class=\"dataframe\">\n",
       "  <thead>\n",
       "    <tr style=\"text-align: right;\">\n",
       "      <th></th>\n",
       "      <th>link</th>\n",
       "      <th>title</th>\n",
       "      <th>description</th>\n",
       "      <th>original_title</th>\n",
       "      <th>rating</th>\n",
       "      <th>reviewers</th>\n",
       "      <th>category</th>\n",
       "      <th>tags</th>\n",
       "      <th>source_link</th>\n",
       "      <th>summary</th>\n",
       "      <th>criteria</th>\n",
       "      <th>news_id</th>\n",
       "      <th>news_source</th>\n",
       "    </tr>\n",
       "  </thead>\n",
       "  <tbody>\n",
       "    <tr>\n",
       "      <th>604</th>\n",
       "      <td>https://www.healthnewsreview.org/news-release-...</td>\n",
       "      <td>Thorough summary of trial comparing drugs for ...</td>\n",
       "      <td>This news release describes a study testing th...</td>\n",
       "      <td>Joslin Researchers Conduct First Trial Directl...</td>\n",
       "      <td>4</td>\n",
       "      <td>[A'ndrea Elyse Messer, MS, PhD, Doug Campos-Ou...</td>\n",
       "      <td>Academic medical center news release</td>\n",
       "      <td>[comparative effectiveness studies, diabetes]</td>\n",
       "      <td>http://www.newswise.com/articles/view/629985/?...</td>\n",
       "      <td>{'Our Review Summary': 'This release was uncom...</td>\n",
       "      <td>[{'question': 'Does the news release adequatel...</td>\n",
       "      <td>news_reviews_00604</td>\n",
       "      <td>Joslin Diabetes Center</td>\n",
       "    </tr>\n",
       "    <tr>\n",
       "      <th>605</th>\n",
       "      <td>https://www.healthnewsreview.org/news-release-...</td>\n",
       "      <td>Spinning of negative result gives false hope o...</td>\n",
       "      <td>Subgroup analysis is an important approach to ...</td>\n",
       "      <td>Prostate Cancer Drug Slows Memory Loss in Wome...</td>\n",
       "      <td>2</td>\n",
       "      <td>[Harold J. DeMonaco, MS, Kevin Lomangino]</td>\n",
       "      <td>Academic medical center news release</td>\n",
       "      <td>[conflict of interest, subgroup analysis]</td>\n",
       "      <td>http://www.med.wisc.edu/news-events/prostate-c...</td>\n",
       "      <td>{'Our Review Summary': 'Misleading to the poin...</td>\n",
       "      <td>[{'question': 'Does the news release adequatel...</td>\n",
       "      <td>news_reviews_00605</td>\n",
       "      <td></td>\n",
       "    </tr>\n",
       "  </tbody>\n",
       "</table>\n",
       "</div>"
      ],
      "text/plain": [
       "                                                  link  ...             news_source\n",
       "604  https://www.healthnewsreview.org/news-release-...  ...  Joslin Diabetes Center\n",
       "605  https://www.healthnewsreview.org/news-release-...  ...                        \n",
       "\n",
       "[2 rows x 13 columns]"
      ]
     },
     "execution_count": 14,
     "metadata": {},
     "output_type": "execute_result"
    }
   ],
   "source": [
    "df2=pd.read_json(path_2[0])\n",
    "df2.tail(2)"
   ]
  },
  {
   "cell_type": "code",
   "execution_count": 17,
   "id": "7cc9da12",
   "metadata": {},
   "outputs": [
    {
     "data": {
      "text/plain": [
       "Index(['url', 'text', 'images', 'top_img', 'keywords', 'authors',\n",
       "       'canonical_link', 'title_x', 'meta_data', 'movies', 'publish_date',\n",
       "       'source', 'summary_x', 'news_id', 'link', 'title_y', 'description',\n",
       "       'original_title', 'rating', 'reviewers', 'category', 'tags',\n",
       "       'source_link', 'summary_y', 'criteria', 'news_source'],\n",
       "      dtype='object')"
      ]
     },
     "execution_count": 17,
     "metadata": {},
     "output_type": "execute_result"
    }
   ],
   "source": [
    "# import pandas as pd\n",
    "df_comb = df.merge(df2,how='inner',on='news_id')\n",
    "df_comb.columns\n",
    "# df.to_csv('D:\\\\Project_DLTM\\\\fakehealth.csv', index=False, encoding='utf-8-sig')"
   ]
  },
  {
   "cell_type": "code",
   "execution_count": 20,
   "id": "fa184d8e",
   "metadata": {},
   "outputs": [
    {
     "name": "stderr",
     "output_type": "stream",
     "text": [
      "C:\\Users\\Manu\\AppData\\Local\\Temp\\ipykernel_11868\\2148961805.py:2: SettingWithCopyWarning: \n",
      "A value is trying to be set on a copy of a slice from a DataFrame.\n",
      "Try using .loc[row_indexer,col_indexer] = value instead\n",
      "\n",
      "See the caveats in the documentation: https://pandas.pydata.org/pandas-docs/stable/user_guide/indexing.html#returning-a-view-versus-a-copy\n",
      "  fake_health['labels']=fake_health['rating'].map({1:'FAKE',2:'Unreliable',3:'Unreliable',4:'Reliable',5:'Reliable'})\n"
     ]
    },
    {
     "data": {
      "text/plain": [
       "(599, 5)"
      ]
     },
     "execution_count": 20,
     "metadata": {},
     "output_type": "execute_result"
    }
   ],
   "source": [
    "fake_health=df_comb[['original_title','text','source','rating']]\n",
    "fake_health['labels']=fake_health['rating'].map({1:'FAKE',2:'Unreliable',3:'Unreliable',4:'Reliable',5:'Reliable'})\n",
    "fake_health.shape\n",
    "# fake_health['label']='Fake'"
   ]
  },
  {
   "cell_type": "markdown",
   "id": "af0d8a98",
   "metadata": {},
   "source": [
    "# Monant Dataset"
   ]
  },
  {
   "cell_type": "code",
   "execution_count": null,
   "id": "0a5bf4a3",
   "metadata": {},
   "outputs": [
    {
     "data": {
      "text/plain": [
       "['D:\\\\Project_DLTM\\\\medical-misinformation-dataset-main\\\\sample_data']"
      ]
     },
     "execution_count": 6,
     "metadata": {},
     "output_type": "execute_result"
    }
   ],
   "source": [
    "#######################################################monant-medic-info\n",
    "\n",
    "path_1=['D:\\Project_DLTM\\medical-misinformation-dataset-main\\sample_data']\n",
    "\n",
    "    #   'D:\\\\Project_DLTM\\\\FakeHealth-master\\\\dataset\\\\content\\\\HealthStory']\n",
    "path_2=['D:\\Project_DLTM\\monant-dataset\\\\full_data\\']\n"
   ]
  },
  {
   "cell_type": "code",
   "execution_count": 14,
   "id": "0a56b855",
   "metadata": {},
   "outputs": [],
   "source": [
    "# paths=os.listdir(path_1[0])\n",
    "paths=os.listdir(path_1[0])"
   ]
  },
  {
   "cell_type": "code",
   "execution_count": 64,
   "id": "e8f1b1e1",
   "metadata": {},
   "outputs": [
    {
     "name": "stdout",
     "output_type": "stream",
     "text": [
      "annotation_types.csv\n",
      "['id', 'name', 'description', 'enumeration', 'created_at', 'updated_at']\n",
      "articles.csv\n",
      "['id', 'title', 'author_id', 'body', 'raw_body', 'category', 'perex', 'url', 'source_id', 'other_info', 'published_at', 'extracted_at', 'feedback_facebook_id', 'monitoring_tags']\n",
      "article_authors.csv\n",
      "['id', 'name', 'source_id']\n",
      "article_media.csv\n",
      "['id', 'article_id', 'media_type_id', 'url', 'caption', 'extracted_at']\n",
      "claims.csv\n",
      "['id', 'name', 'statement', 'description', 'category', 'rating', 'queries', 'created_at', 'updated_at']\n",
      "discussion_posts.csv\n",
      "['id', 'source_id', 'author_id', 'parent_post_id', 'related_object_url', 'title', 'body', 'body_raw', 'url', 'up_votes', 'down_votes', 'other_info', 'published_at', 'extracted_at', 'monitoring_tags']\n",
      "discussion_post_authors.csv\n",
      "['id', 'source_id', 'name', 'url', 'avatar_url']\n",
      "entity_annotations.csv\n",
      "['id', 'method_id', 'annotation_type_id', 'annotation_category', 'entity_type', 'entity_id', 'value', 'created_at', 'updated_at']\n",
      "fact_checking_articles.csv\n",
      "['id', 'claim', 'description', 'raw_description', 'rating', 'category', 'url', 'source_id', 'other_info', 'published_at', 'extracted_at', 'monitoring_tags', 'created_at', 'updated_at']\n",
      "fact_checking_article_media.csv\n",
      "['id', 'fact_checking_article_id', 'media_type_id', 'url', 'caption', 'extracted_at']\n",
      "feedback_facebook.csv\n",
      "['id', 'related_object_url', 'reaction_count', 'comment_count', 'share_count', 'comment_plugin_count', 'extracted_at', 'feedback_sum']\n",
      "media_types.csv\n",
      "['id', 'name']\n",
      "methods.csv\n",
      "['id', 'name', 'description', 'created_at', 'updated_at']\n",
      "relation_annotations.csv\n",
      "['id', 'method_id', 'annotation_type_id', 'annotation_category', 'source_entity_type', 'source_entity_id', 'target_entity_type', 'target_entity_id', 'value', 'created_at', 'updated_at']\n",
      "sources.csv\n",
      "['id', 'name', 'source_type_id', 'url', 'created_at', 'updated_at']\n",
      "source_types.csv\n",
      "['id', 'name']\n"
     ]
    }
   ],
   "source": [
    "## article media\n",
    "\n",
    "def cols(path):\n",
    "    data=pd.read_csv(path)\n",
    "    return data.columns.tolist()\n",
    "\n",
    "for path in paths:\n",
    "    print(path)\n",
    "    print(cols(os.path.join(path_1[0],path)))\n",
    "    # print('\\n\\n')"
   ]
  },
  {
   "cell_type": "code",
   "execution_count": 21,
   "id": "ba15f5ee",
   "metadata": {},
   "outputs": [
    {
     "data": {
      "text/html": [
       "<div>\n",
       "<style scoped>\n",
       "    .dataframe tbody tr th:only-of-type {\n",
       "        vertical-align: middle;\n",
       "    }\n",
       "\n",
       "    .dataframe tbody tr th {\n",
       "        vertical-align: top;\n",
       "    }\n",
       "\n",
       "    .dataframe thead th {\n",
       "        text-align: right;\n",
       "    }\n",
       "</style>\n",
       "<table border=\"1\" class=\"dataframe\">\n",
       "  <thead>\n",
       "    <tr style=\"text-align: right;\">\n",
       "      <th></th>\n",
       "      <th>id</th>\n",
       "      <th>title</th>\n",
       "      <th>author_id</th>\n",
       "      <th>body</th>\n",
       "      <th>raw_body</th>\n",
       "      <th>category</th>\n",
       "      <th>perex</th>\n",
       "      <th>url</th>\n",
       "      <th>source_id</th>\n",
       "      <th>other_info</th>\n",
       "      <th>published_at</th>\n",
       "      <th>extracted_at</th>\n",
       "      <th>feedback_facebook_id</th>\n",
       "      <th>monitoring_tags</th>\n",
       "    </tr>\n",
       "  </thead>\n",
       "  <tbody>\n",
       "    <tr>\n",
       "      <th>0</th>\n",
       "      <td>378277</td>\n",
       "      <td>The USA is nothing more than a corporation</td>\n",
       "      <td>8157</td>\n",
       "      <td>Recently, the Natural News Editors wrote a cla...</td>\n",
       "      <td>&lt;p&gt;Recently, the Natural News Editors wrote a ...</td>\n",
       "      <td>{Health}</td>\n",
       "      <td>&lt;p&gt;Recently, the Natural News Editors wrote a ...</td>\n",
       "      <td>https://naturalnewsblogs.com/usa-nothing-corpo...</td>\n",
       "      <td>142</td>\n",
       "      <td>{\"tags\": [\"bankrupt\", \"united states\", \"USA\"],...</td>\n",
       "      <td>2015-01-26 14:08:53+01</td>\n",
       "      <td>2019-09-19 15:08:48.168641+02</td>\n",
       "      <td>108676170.0</td>\n",
       "      <td>english, medical</td>\n",
       "    </tr>\n",
       "  </tbody>\n",
       "</table>\n",
       "</div>"
      ],
      "text/plain": [
       "       id  ...   monitoring_tags\n",
       "0  378277  ...  english, medical\n",
       "\n",
       "[1 rows x 14 columns]"
      ]
     },
     "execution_count": 21,
     "metadata": {},
     "output_type": "execute_result"
    }
   ],
   "source": [
    "articles=pd.read_csv('D:\\Project_DLTM\\medical-misinformation-dataset-main\\sample_data\\\\articles.csv')\n",
    "articles.head(1)"
   ]
  },
  {
   "cell_type": "code",
   "execution_count": 25,
   "id": "d6135b2f",
   "metadata": {},
   "outputs": [
    {
     "name": "stdout",
     "output_type": "stream",
     "text": [
      "Index(['id', 'claim', 'description', 'raw_description', 'rating', 'category',\n",
      "       'url', 'source_id', 'other_info', 'published_at', 'extracted_at',\n",
      "       'monitoring_tags', 'created_at', 'updated_at'],\n",
      "      dtype='object')\n"
     ]
    },
    {
     "data": {
      "text/html": [
       "<div>\n",
       "<style scoped>\n",
       "    .dataframe tbody tr th:only-of-type {\n",
       "        vertical-align: middle;\n",
       "    }\n",
       "\n",
       "    .dataframe tbody tr th {\n",
       "        vertical-align: top;\n",
       "    }\n",
       "\n",
       "    .dataframe thead th {\n",
       "        text-align: right;\n",
       "    }\n",
       "</style>\n",
       "<table border=\"1\" class=\"dataframe\">\n",
       "  <thead>\n",
       "    <tr style=\"text-align: right;\">\n",
       "      <th></th>\n",
       "      <th>id</th>\n",
       "      <th>claim</th>\n",
       "      <th>description</th>\n",
       "      <th>raw_description</th>\n",
       "      <th>rating</th>\n",
       "      <th>category</th>\n",
       "      <th>url</th>\n",
       "      <th>source_id</th>\n",
       "      <th>other_info</th>\n",
       "      <th>published_at</th>\n",
       "      <th>extracted_at</th>\n",
       "      <th>monitoring_tags</th>\n",
       "      <th>created_at</th>\n",
       "      <th>updated_at</th>\n",
       "    </tr>\n",
       "  </thead>\n",
       "  <tbody>\n",
       "    <tr>\n",
       "      <th>0</th>\n",
       "      <td>5157</td>\n",
       "      <td>Is biological ageing inevitable?</td>\n",
       "      <td>&lt;p&gt;&lt;a href=\"https://link.springer.com/article/...</td>\n",
       "      <td>... &lt;truncated&gt;</td>\n",
       "      <td>{\"overall_rating\": \"Affirmative\", \"yays\": 16, ...</td>\n",
       "      <td>{medical}</td>\n",
       "      <td>https://metafact.io/factchecks/97-is-biologica...</td>\n",
       "      <td>153</td>\n",
       "      <td>{\"tags\": [\"Gerontology\", \"Biology\", \"Anti-Agei...</td>\n",
       "      <td>2018-01-15 00:34:10+01</td>\n",
       "      <td>2022-03-12 23:13:23.777487+01</td>\n",
       "      <td>NaN</td>\n",
       "      <td>2019-09-05 06:55:52.430211+02</td>\n",
       "      <td>2019-09-05 06:55:52.430211+02</td>\n",
       "    </tr>\n",
       "  </tbody>\n",
       "</table>\n",
       "</div>"
      ],
      "text/plain": [
       "     id  ...                     updated_at\n",
       "0  5157  ...  2019-09-05 06:55:52.430211+02\n",
       "\n",
       "[1 rows x 14 columns]"
      ]
     },
     "execution_count": 25,
     "metadata": {},
     "output_type": "execute_result"
    }
   ],
   "source": [
    "fact_articles=pd.read_csv('D:\\Project_DLTM\\medical-misinformation-dataset-main\\sample_data\\\\fact_checking_articles.csv')\n",
    "print(fact_articles.columns)\n",
    "fact_articles.head(1)\n"
   ]
  },
  {
   "cell_type": "code",
   "execution_count": null,
   "id": "bd630e45",
   "metadata": {},
   "outputs": [
    {
     "ename": "AttributeError",
     "evalue": "'str' object has no attribute 'read'",
     "output_type": "error",
     "traceback": [
      "\u001b[1;31m---------------------------------------------------------------------------\u001b[0m",
      "\u001b[1;31mAttributeError\u001b[0m                            Traceback (most recent call last)",
      "Input \u001b[1;32mIn [30]\u001b[0m, in \u001b[0;36m<cell line: 3>\u001b[1;34m()\u001b[0m\n\u001b[0;32m      1\u001b[0m \u001b[38;5;66;03m# fact_articles['text']=fact_articles['claim']+fact_articles['description']\u001b[39;00m\n\u001b[0;32m      2\u001b[0m \u001b[38;5;66;03m# fact_articles['source']=\u001b[39;00m\n\u001b[1;32m----> 3\u001b[0m \u001b[43mjson\u001b[49m\u001b[38;5;241;43m.\u001b[39;49m\u001b[43mload\u001b[49m\u001b[43m(\u001b[49m\u001b[43mfact_articles\u001b[49m\u001b[43m[\u001b[49m\u001b[38;5;124;43m'\u001b[39;49m\u001b[38;5;124;43mother_info\u001b[39;49m\u001b[38;5;124;43m'\u001b[39;49m\u001b[43m]\u001b[49m\u001b[43m[\u001b[49m\u001b[38;5;241;43m0\u001b[39;49m\u001b[43m]\u001b[49m\u001b[43m)\u001b[49m\n",
      "File \u001b[1;32mc:\\Users\\Manu\\lib\\json\\__init__.py:293\u001b[0m, in \u001b[0;36mload\u001b[1;34m(fp, cls, object_hook, parse_float, parse_int, parse_constant, object_pairs_hook, **kw)\u001b[0m\n\u001b[0;32m    274\u001b[0m \u001b[38;5;28;01mdef\u001b[39;00m \u001b[38;5;21mload\u001b[39m(fp, \u001b[38;5;241m*\u001b[39m, \u001b[38;5;28mcls\u001b[39m\u001b[38;5;241m=\u001b[39m\u001b[38;5;28;01mNone\u001b[39;00m, object_hook\u001b[38;5;241m=\u001b[39m\u001b[38;5;28;01mNone\u001b[39;00m, parse_float\u001b[38;5;241m=\u001b[39m\u001b[38;5;28;01mNone\u001b[39;00m,\n\u001b[0;32m    275\u001b[0m         parse_int\u001b[38;5;241m=\u001b[39m\u001b[38;5;28;01mNone\u001b[39;00m, parse_constant\u001b[38;5;241m=\u001b[39m\u001b[38;5;28;01mNone\u001b[39;00m, object_pairs_hook\u001b[38;5;241m=\u001b[39m\u001b[38;5;28;01mNone\u001b[39;00m, \u001b[38;5;241m*\u001b[39m\u001b[38;5;241m*\u001b[39mkw):\n\u001b[0;32m    276\u001b[0m \u001b[38;5;250m    \u001b[39m\u001b[38;5;124;03m\"\"\"Deserialize ``fp`` (a ``.read()``-supporting file-like object containing\u001b[39;00m\n\u001b[0;32m    277\u001b[0m \u001b[38;5;124;03m    a JSON document) to a Python object.\u001b[39;00m\n\u001b[0;32m    278\u001b[0m \n\u001b[1;32m   (...)\u001b[0m\n\u001b[0;32m    291\u001b[0m \u001b[38;5;124;03m    kwarg; otherwise ``JSONDecoder`` is used.\u001b[39;00m\n\u001b[0;32m    292\u001b[0m \u001b[38;5;124;03m    \"\"\"\u001b[39;00m\n\u001b[1;32m--> 293\u001b[0m     \u001b[38;5;28;01mreturn\u001b[39;00m loads(\u001b[43mfp\u001b[49m\u001b[38;5;241;43m.\u001b[39;49m\u001b[43mread\u001b[49m(),\n\u001b[0;32m    294\u001b[0m         \u001b[38;5;28mcls\u001b[39m\u001b[38;5;241m=\u001b[39m\u001b[38;5;28mcls\u001b[39m, object_hook\u001b[38;5;241m=\u001b[39mobject_hook,\n\u001b[0;32m    295\u001b[0m         parse_float\u001b[38;5;241m=\u001b[39mparse_float, parse_int\u001b[38;5;241m=\u001b[39mparse_int,\n\u001b[0;32m    296\u001b[0m         parse_constant\u001b[38;5;241m=\u001b[39mparse_constant, object_pairs_hook\u001b[38;5;241m=\u001b[39mobject_pairs_hook, \u001b[38;5;241m*\u001b[39m\u001b[38;5;241m*\u001b[39mkw)\n",
      "\u001b[1;31mAttributeError\u001b[0m: 'str' object has no attribute 'read'"
     ]
    }
   ],
   "source": [
    "# fact_articles['text']=fact_articles['claim']+fact_articles['description']\n",
    "# fact_articles['source']=\n",
    "fact_articles['other_info'][0]"
   ]
  },
  {
   "cell_type": "code",
   "execution_count": 4,
   "id": "d65cce69",
   "metadata": {},
   "outputs": [
    {
     "data": {
      "text/html": [
       "<div>\n",
       "<style scoped>\n",
       "    .dataframe tbody tr th:only-of-type {\n",
       "        vertical-align: middle;\n",
       "    }\n",
       "\n",
       "    .dataframe tbody tr th {\n",
       "        vertical-align: top;\n",
       "    }\n",
       "\n",
       "    .dataframe thead th {\n",
       "        text-align: right;\n",
       "    }\n",
       "</style>\n",
       "<table border=\"1\" class=\"dataframe\">\n",
       "  <thead>\n",
       "    <tr style=\"text-align: right;\">\n",
       "      <th></th>\n",
       "      <th>id</th>\n",
       "      <th>name</th>\n",
       "      <th>statement</th>\n",
       "      <th>description</th>\n",
       "      <th>category</th>\n",
       "      <th>rating</th>\n",
       "      <th>queries</th>\n",
       "      <th>created_at</th>\n",
       "      <th>updated_at</th>\n",
       "    </tr>\n",
       "  </thead>\n",
       "  <tbody>\n",
       "    <tr>\n",
       "      <th>0</th>\n",
       "      <td>6771</td>\n",
       "      <td>NaN</td>\n",
       "      <td>Dawn dish soap contains ammonia even though it...</td>\n",
       "      <td>Could Mixing Dawn Dish Soap with Clorox Bleach...</td>\n",
       "      <td>{medical,science}</td>\n",
       "      <td>mixture</td>\n",
       "      <td>NaN</td>\n",
       "      <td>2020-06-28 21:40:18.799231+02</td>\n",
       "      <td>2020-06-28 21:40:18.799231+02</td>\n",
       "    </tr>\n",
       "  </tbody>\n",
       "</table>\n",
       "</div>"
      ],
      "text/plain": [
       "     id name                                          statement  \\\n",
       "0  6771  NaN  Dawn dish soap contains ammonia even though it...   \n",
       "\n",
       "                                         description           category  \\\n",
       "0  Could Mixing Dawn Dish Soap with Clorox Bleach...  {medical,science}   \n",
       "\n",
       "    rating queries                     created_at  \\\n",
       "0  mixture     NaN  2020-06-28 21:40:18.799231+02   \n",
       "\n",
       "                      updated_at  \n",
       "0  2020-06-28 21:40:18.799231+02  "
      ]
     },
     "execution_count": 4,
     "metadata": {},
     "output_type": "execute_result"
    }
   ],
   "source": [
    "claims=pd.read_csv('D:\\Project_DLTM\\medical-misinformation-dataset-main\\sample_data\\\\claims.csv')\n",
    "claims.head(1)\n",
    "# claims.shape"
   ]
  },
  {
   "cell_type": "code",
   "execution_count": 41,
   "id": "ec128d87",
   "metadata": {},
   "outputs": [
    {
     "data": {
      "text/html": [
       "<div>\n",
       "<style scoped>\n",
       "    .dataframe tbody tr th:only-of-type {\n",
       "        vertical-align: middle;\n",
       "    }\n",
       "\n",
       "    .dataframe tbody tr th {\n",
       "        vertical-align: top;\n",
       "    }\n",
       "\n",
       "    .dataframe thead th {\n",
       "        text-align: right;\n",
       "    }\n",
       "</style>\n",
       "<table border=\"1\" class=\"dataframe\">\n",
       "  <thead>\n",
       "    <tr style=\"text-align: right;\">\n",
       "      <th></th>\n",
       "      <th>source_id</th>\n",
       "      <th>name</th>\n",
       "      <th>source_type_id</th>\n",
       "      <th>url</th>\n",
       "      <th>created_at</th>\n",
       "      <th>updated_at</th>\n",
       "    </tr>\n",
       "  </thead>\n",
       "  <tbody>\n",
       "    <tr>\n",
       "      <th>0</th>\n",
       "      <td>142</td>\n",
       "      <td>naturalnewsblogs.com</td>\n",
       "      <td>1</td>\n",
       "      <td>http://naturalnewsblogs.com</td>\n",
       "      <td>2019-09-05 06:45:27.646507+02</td>\n",
       "      <td>2019-09-05 06:45:27.646507+02</td>\n",
       "    </tr>\n",
       "    <tr>\n",
       "      <th>1</th>\n",
       "      <td>143</td>\n",
       "      <td>naturalawakeningsmag.com</td>\n",
       "      <td>1</td>\n",
       "      <td>http://naturalawakeningsmag.com</td>\n",
       "      <td>2019-09-05 06:45:27.828926+02</td>\n",
       "      <td>2019-09-05 06:45:27.828926+02</td>\n",
       "    </tr>\n",
       "    <tr>\n",
       "      <th>2</th>\n",
       "      <td>144</td>\n",
       "      <td>collective-evolution.com</td>\n",
       "      <td>1</td>\n",
       "      <td>http://collective-evolution.com</td>\n",
       "      <td>2019-09-05 06:45:32.032093+02</td>\n",
       "      <td>2019-09-05 06:45:32.032093+02</td>\n",
       "    </tr>\n",
       "    <tr>\n",
       "      <th>3</th>\n",
       "      <td>145</td>\n",
       "      <td>naturalnews.com</td>\n",
       "      <td>1</td>\n",
       "      <td>http://naturalnews.com</td>\n",
       "      <td>2019-09-05 06:45:37.696388+02</td>\n",
       "      <td>2019-09-05 06:45:37.696388+02</td>\n",
       "    </tr>\n",
       "    <tr>\n",
       "      <th>4</th>\n",
       "      <td>146</td>\n",
       "      <td>genuinehealth.com</td>\n",
       "      <td>1</td>\n",
       "      <td>http://genuinehealth.com</td>\n",
       "      <td>2019-09-05 06:50:58.285959+02</td>\n",
       "      <td>2019-09-05 06:50:58.285959+02</td>\n",
       "    </tr>\n",
       "    <tr>\n",
       "      <th>5</th>\n",
       "      <td>147</td>\n",
       "      <td>blogspot.com</td>\n",
       "      <td>1</td>\n",
       "      <td>http://blogspot.com</td>\n",
       "      <td>2019-09-05 06:51:44.895736+02</td>\n",
       "      <td>2019-09-05 06:51:44.895736+02</td>\n",
       "    </tr>\n",
       "    <tr>\n",
       "      <th>6</th>\n",
       "      <td>148</td>\n",
       "      <td>ageofautism.com</td>\n",
       "      <td>1</td>\n",
       "      <td>http://ageofautism.com</td>\n",
       "      <td>2019-09-05 06:51:59.071054+02</td>\n",
       "      <td>2019-09-05 06:51:59.071054+02</td>\n",
       "    </tr>\n",
       "    <tr>\n",
       "      <th>7</th>\n",
       "      <td>149</td>\n",
       "      <td>autismspeaks.org</td>\n",
       "      <td>1</td>\n",
       "      <td>http://autismspeaks.org</td>\n",
       "      <td>2019-09-05 06:52:04.276975+02</td>\n",
       "      <td>2019-09-05 06:52:04.276975+02</td>\n",
       "    </tr>\n",
       "    <tr>\n",
       "      <th>8</th>\n",
       "      <td>150</td>\n",
       "      <td>factcheck.org</td>\n",
       "      <td>2</td>\n",
       "      <td>http://factcheck.org</td>\n",
       "      <td>2019-09-05 06:55:13.469949+02</td>\n",
       "      <td>2019-09-05 06:55:13.469949+02</td>\n",
       "    </tr>\n",
       "    <tr>\n",
       "      <th>9</th>\n",
       "      <td>152</td>\n",
       "      <td>politifact.com</td>\n",
       "      <td>2</td>\n",
       "      <td>http://politifact.com</td>\n",
       "      <td>2019-09-05 06:55:21.809559+02</td>\n",
       "      <td>2019-09-05 06:55:21.809559+02</td>\n",
       "    </tr>\n",
       "  </tbody>\n",
       "</table>\n",
       "</div>"
      ],
      "text/plain": [
       "   source_id                      name  source_type_id  \\\n",
       "0        142      naturalnewsblogs.com               1   \n",
       "1        143  naturalawakeningsmag.com               1   \n",
       "2        144  collective-evolution.com               1   \n",
       "3        145           naturalnews.com               1   \n",
       "4        146         genuinehealth.com               1   \n",
       "5        147              blogspot.com               1   \n",
       "6        148           ageofautism.com               1   \n",
       "7        149          autismspeaks.org               1   \n",
       "8        150             factcheck.org               2   \n",
       "9        152            politifact.com               2   \n",
       "\n",
       "                               url                     created_at  \\\n",
       "0      http://naturalnewsblogs.com  2019-09-05 06:45:27.646507+02   \n",
       "1  http://naturalawakeningsmag.com  2019-09-05 06:45:27.828926+02   \n",
       "2  http://collective-evolution.com  2019-09-05 06:45:32.032093+02   \n",
       "3           http://naturalnews.com  2019-09-05 06:45:37.696388+02   \n",
       "4         http://genuinehealth.com  2019-09-05 06:50:58.285959+02   \n",
       "5              http://blogspot.com  2019-09-05 06:51:44.895736+02   \n",
       "6           http://ageofautism.com  2019-09-05 06:51:59.071054+02   \n",
       "7          http://autismspeaks.org  2019-09-05 06:52:04.276975+02   \n",
       "8             http://factcheck.org  2019-09-05 06:55:13.469949+02   \n",
       "9            http://politifact.com  2019-09-05 06:55:21.809559+02   \n",
       "\n",
       "                      updated_at  \n",
       "0  2019-09-05 06:45:27.646507+02  \n",
       "1  2019-09-05 06:45:27.828926+02  \n",
       "2  2019-09-05 06:45:32.032093+02  \n",
       "3  2019-09-05 06:45:37.696388+02  \n",
       "4  2019-09-05 06:50:58.285959+02  \n",
       "5  2019-09-05 06:51:44.895736+02  \n",
       "6  2019-09-05 06:51:59.071054+02  \n",
       "7  2019-09-05 06:52:04.276975+02  \n",
       "8  2019-09-05 06:55:13.469949+02  \n",
       "9  2019-09-05 06:55:21.809559+02  "
      ]
     },
     "execution_count": 41,
     "metadata": {},
     "output_type": "execute_result"
    }
   ],
   "source": [
    "sources=pd.read_csv('D:\\Project_DLTM\\medical-misinformation-dataset-main\\sample_data\\\\sources.csv')\n",
    "sources.head(10)\n",
    "\n",
    "sources.rename(columns={'id':'source_id'},inplace=True)\n",
    "sources.head(10)"
   ]
  },
  {
   "cell_type": "code",
   "execution_count": 67,
   "id": "0d0f1f51",
   "metadata": {},
   "outputs": [
    {
     "name": "stderr",
     "output_type": "stream",
     "text": [
      "C:\\Users\\Manu\\AppData\\Local\\Temp\\ipykernel_12024\\3700796416.py:3: SettingWithCopyWarning: \n",
      "A value is trying to be set on a copy of a slice from a DataFrame.\n",
      "Try using .loc[row_indexer,col_indexer] = value instead\n",
      "\n",
      "See the caveats in the documentation: https://pandas.pydata.org/pandas-docs/stable/user_guide/indexing.html#returning-a-view-versus-a-copy\n",
      "  monant_articles['label']='Not Sure'\n"
     ]
    }
   ],
   "source": [
    "updated_df=articles.merge(sources,how='left',on='source_id')\n",
    "monant_articles=updated_df[['title','body','name']]\n",
    "monant_articles['label']='Not Sure'"
   ]
  },
  {
   "cell_type": "code",
   "execution_count": 51,
   "id": "1940a9ba",
   "metadata": {},
   "outputs": [
    {
     "data": {
      "text/plain": [
       "Index(['title', 'text', 'source'], dtype='object')"
      ]
     },
     "execution_count": 51,
     "metadata": {},
     "output_type": "execute_result"
    }
   ],
   "source": [
    "fake_health.columns"
   ]
  },
  {
   "cell_type": "code",
   "execution_count": 68,
   "id": "a3a2549c",
   "metadata": {},
   "outputs": [
    {
     "name": "stderr",
     "output_type": "stream",
     "text": [
      "C:\\Users\\Manu\\AppData\\Local\\Temp\\ipykernel_12024\\745710639.py:2: SettingWithCopyWarning: \n",
      "A value is trying to be set on a copy of a slice from a DataFrame\n",
      "\n",
      "See the caveats in the documentation: https://pandas.pydata.org/pandas-docs/stable/user_guide/indexing.html#returning-a-view-versus-a-copy\n",
      "  monant_articles.rename(columns={'body':'text','name':'source'},inplace=True)\n"
     ]
    }
   ],
   "source": [
    "final_data = pd.DataFrame(columns=['title', 'text', 'source','label'])\n",
    "monant_articles.rename(columns={'body':'text','name':'source'},inplace=True)\n",
    "final_data = pd.concat([final_data, fake_health,monant_articles],axis=0, ignore_index=True)\n"
   ]
  },
  {
   "cell_type": "code",
   "execution_count": 69,
   "id": "0ca88760",
   "metadata": {},
   "outputs": [
    {
     "data": {
      "text/plain": [
       "(3237, 4)"
      ]
     },
     "execution_count": 69,
     "metadata": {},
     "output_type": "execute_result"
    }
   ],
   "source": [
    "final_data.shape"
   ]
  },
  {
   "cell_type": "code",
   "execution_count": 70,
   "id": "dea45f75",
   "metadata": {},
   "outputs": [
    {
     "data": {
      "text/html": [
       "<div>\n",
       "<style scoped>\n",
       "    .dataframe tbody tr th:only-of-type {\n",
       "        vertical-align: middle;\n",
       "    }\n",
       "\n",
       "    .dataframe tbody tr th {\n",
       "        vertical-align: top;\n",
       "    }\n",
       "\n",
       "    .dataframe thead th {\n",
       "        text-align: right;\n",
       "    }\n",
       "</style>\n",
       "<table border=\"1\" class=\"dataframe\">\n",
       "  <thead>\n",
       "    <tr style=\"text-align: right;\">\n",
       "      <th></th>\n",
       "      <th>title</th>\n",
       "      <th>text</th>\n",
       "      <th>source</th>\n",
       "      <th>label</th>\n",
       "    </tr>\n",
       "  </thead>\n",
       "  <tbody>\n",
       "    <tr>\n",
       "      <th>0</th>\n",
       "      <td>Tiny implantable device short-circuits hunger ...</td>\n",
       "      <td>MADISON, Wis. -- More than 700 million adults ...</td>\n",
       "      <td>https://web.archive.org</td>\n",
       "      <td>Fake</td>\n",
       "    </tr>\n",
       "    <tr>\n",
       "      <th>1</th>\n",
       "      <td>Scientists report CRISPR restores effectivenes...</td>\n",
       "      <td>Wilmington, DE, December 17, 2018 - The CRISPR...</td>\n",
       "      <td>https://web.archive.org</td>\n",
       "      <td>Fake</td>\n",
       "    </tr>\n",
       "    <tr>\n",
       "      <th>2</th>\n",
       "      <td>Probiotics could help millions of patients suf...</td>\n",
       "      <td>About 3 million people in the US are diagnosed...</td>\n",
       "      <td>https://web.archive.org</td>\n",
       "      <td>Fake</td>\n",
       "    </tr>\n",
       "    <tr>\n",
       "      <th>3</th>\n",
       "      <td>Yes Please to Yogurt and Cheese: The New Impro...</td>\n",
       "      <td>Newswise — Thousands of people can take heart ...</td>\n",
       "      <td>https://www.newswise.com</td>\n",
       "      <td>Fake</td>\n",
       "    </tr>\n",
       "    <tr>\n",
       "      <th>4</th>\n",
       "      <td>Johns Hopkins team identifies promising diagno...</td>\n",
       "      <td>Researchers at Johns Hopkins Medicine have ide...</td>\n",
       "      <td>https://web.archive.org</td>\n",
       "      <td>Fake</td>\n",
       "    </tr>\n",
       "  </tbody>\n",
       "</table>\n",
       "</div>"
      ],
      "text/plain": [
       "                                               title  \\\n",
       "0  Tiny implantable device short-circuits hunger ...   \n",
       "1  Scientists report CRISPR restores effectivenes...   \n",
       "2  Probiotics could help millions of patients suf...   \n",
       "3  Yes Please to Yogurt and Cheese: The New Impro...   \n",
       "4  Johns Hopkins team identifies promising diagno...   \n",
       "\n",
       "                                                text  \\\n",
       "0  MADISON, Wis. -- More than 700 million adults ...   \n",
       "1  Wilmington, DE, December 17, 2018 - The CRISPR...   \n",
       "2  About 3 million people in the US are diagnosed...   \n",
       "3  Newswise — Thousands of people can take heart ...   \n",
       "4  Researchers at Johns Hopkins Medicine have ide...   \n",
       "\n",
       "                     source label  \n",
       "0   https://web.archive.org  Fake  \n",
       "1   https://web.archive.org  Fake  \n",
       "2   https://web.archive.org  Fake  \n",
       "3  https://www.newswise.com  Fake  \n",
       "4   https://web.archive.org  Fake  "
      ]
     },
     "execution_count": 70,
     "metadata": {},
     "output_type": "execute_result"
    }
   ],
   "source": [
    "final_data.head(5)"
   ]
  },
  {
   "cell_type": "markdown",
   "id": "208c9e0e",
   "metadata": {},
   "source": [
    "## Full data"
   ]
  },
  {
   "cell_type": "code",
   "execution_count": 30,
   "id": "46d047fc",
   "metadata": {},
   "outputs": [],
   "source": [
    "import pandas as pd\n",
    "\n",
    "claims=pd.read_csv(\"D:\\Project_DLTM\\monant-dataset\\\\full_data\\claims.csv\")\n",
    "# claims.head()"
   ]
  },
  {
   "cell_type": "code",
   "execution_count": 31,
   "id": "441bcc18",
   "metadata": {},
   "outputs": [],
   "source": [
    "claims=claims.rename(columns={'statement':'title','description':'text','rating':'label','name':'source'})\n",
    "# claims['source']=\n",
    "claims=claims.tail(2430)[['title','text','source','label']]\n",
    "# artciles=pd.read_csv(\"D:\\Project_DLTM\\monant-dataset\\\\full_data\\\\articles.csv\")\n",
    "# articles.head(5)"
   ]
  },
  {
   "cell_type": "code",
   "execution_count": 36,
   "id": "9cbf8cb8",
   "metadata": {},
   "outputs": [],
   "source": [
    "final_data=pd.read_csv('D:\\\\Project_DLTM\\\\fakehealth.csv')\n",
    "final_data=pd.concat((final_data,claims),axis=0)\n",
    "final_data.to_csv('D:\\\\Project_DLTM\\\\fakehealth.csv', index=False, encoding='utf-8-sig')"
   ]
  },
  {
   "cell_type": "code",
   "execution_count": null,
   "id": "a98fab73",
   "metadata": {},
   "outputs": [
    {
     "data": {
      "text/html": [
       "<div>\n",
       "<style scoped>\n",
       "    .dataframe tbody tr th:only-of-type {\n",
       "        vertical-align: middle;\n",
       "    }\n",
       "\n",
       "    .dataframe tbody tr th {\n",
       "        vertical-align: top;\n",
       "    }\n",
       "\n",
       "    .dataframe thead th {\n",
       "        text-align: right;\n",
       "    }\n",
       "</style>\n",
       "<table border=\"1\" class=\"dataframe\">\n",
       "  <thead>\n",
       "    <tr style=\"text-align: right;\">\n",
       "      <th></th>\n",
       "      <th>title</th>\n",
       "      <th>text</th>\n",
       "      <th>source</th>\n",
       "      <th>label</th>\n",
       "    </tr>\n",
       "  </thead>\n",
       "  <tbody>\n",
       "    <tr>\n",
       "      <th>3413</th>\n",
       "      <td>An official NHS poster warns that Covid-19 vac...</td>\n",
       "      <td>NHS poster about Bell’s palsy and vaccines is ...</td>\n",
       "      <td>NaN</td>\n",
       "      <td>NaN</td>\n",
       "    </tr>\n",
       "    <tr>\n",
       "      <th>3414</th>\n",
       "      <td>In January 2022, a Boston hospital denied a pa...</td>\n",
       "      <td>Did a Boston Hospital Deny Patient Heart Trans...</td>\n",
       "      <td>NaN</td>\n",
       "      <td>true</td>\n",
       "    </tr>\n",
       "    <tr>\n",
       "      <th>3415</th>\n",
       "      <td>While the media talks a lot of the 150,000 dea...</td>\n",
       "      <td>Dan Wootton and David Davis make incorrect cla...</td>\n",
       "      <td>NaN</td>\n",
       "      <td>NaN</td>\n",
       "    </tr>\n",
       "    <tr>\n",
       "      <th>3416</th>\n",
       "      <td>Rubbing hydrogen peroxide on the body “once, p...</td>\n",
       "      <td>Rubbing hydrogen peroxide over your body every...</td>\n",
       "      <td>NaN</td>\n",
       "      <td>NaN</td>\n",
       "    </tr>\n",
       "    <tr>\n",
       "      <th>3417</th>\n",
       "      <td>The ONS has admitted only 6,183 people died of...</td>\n",
       "      <td>The ONS has not said only 6,183 people have di...</td>\n",
       "      <td>NaN</td>\n",
       "      <td>NaN</td>\n",
       "    </tr>\n",
       "    <tr>\n",
       "      <th>3418</th>\n",
       "      <td>Total Deaths From COVID MUCH LOWER Than Reported”</td>\n",
       "      <td>COVID-19 deaths in people with pre-existing he...</td>\n",
       "      <td>NaN</td>\n",
       "      <td>NaN</td>\n",
       "    </tr>\n",
       "    <tr>\n",
       "      <th>3419</th>\n",
       "      <td>Worldwide Data suggests Fully Vaccinated [peop...</td>\n",
       "      <td>The COVID-19 vaccines protect people from seve...</td>\n",
       "      <td>NaN</td>\n",
       "      <td>false</td>\n",
       "    </tr>\n",
       "    <tr>\n",
       "      <th>3420</th>\n",
       "      <td>The Spanish Flu wasn’t a flu virus, it was a b...</td>\n",
       "      <td>Spanish Flu pandemic wasn’t caused by a mening...</td>\n",
       "      <td>NaN</td>\n",
       "      <td>NaN</td>\n",
       "    </tr>\n",
       "    <tr>\n",
       "      <th>3421</th>\n",
       "      <td>The Spanish Flu did not originate in Spain. It...</td>\n",
       "      <td>Spanish Flu pandemic wasn’t caused by a mening...</td>\n",
       "      <td>NaN</td>\n",
       "      <td>NaN</td>\n",
       "    </tr>\n",
       "    <tr>\n",
       "      <th>3422</th>\n",
       "      <td>Do bananas help with cramp?</td>\n",
       "      <td>NaN</td>\n",
       "      <td>NaN</td>\n",
       "      <td>unknown</td>\n",
       "    </tr>\n",
       "  </tbody>\n",
       "</table>\n",
       "</div>"
      ],
      "text/plain": [
       "                                                  title  \\\n",
       "3413  An official NHS poster warns that Covid-19 vac...   \n",
       "3414  In January 2022, a Boston hospital denied a pa...   \n",
       "3415  While the media talks a lot of the 150,000 dea...   \n",
       "3416  Rubbing hydrogen peroxide on the body “once, p...   \n",
       "3417  The ONS has admitted only 6,183 people died of...   \n",
       "3418  Total Deaths From COVID MUCH LOWER Than Reported”   \n",
       "3419  Worldwide Data suggests Fully Vaccinated [peop...   \n",
       "3420  The Spanish Flu wasn’t a flu virus, it was a b...   \n",
       "3421  The Spanish Flu did not originate in Spain. It...   \n",
       "3422                        Do bananas help with cramp?   \n",
       "\n",
       "                                                   text source    label  \n",
       "3413  NHS poster about Bell’s palsy and vaccines is ...    NaN      NaN  \n",
       "3414  Did a Boston Hospital Deny Patient Heart Trans...    NaN     true  \n",
       "3415  Dan Wootton and David Davis make incorrect cla...    NaN      NaN  \n",
       "3416  Rubbing hydrogen peroxide over your body every...    NaN      NaN  \n",
       "3417  The ONS has not said only 6,183 people have di...    NaN      NaN  \n",
       "3418  COVID-19 deaths in people with pre-existing he...    NaN      NaN  \n",
       "3419  The COVID-19 vaccines protect people from seve...    NaN    false  \n",
       "3420  Spanish Flu pandemic wasn’t caused by a mening...    NaN      NaN  \n",
       "3421  Spanish Flu pandemic wasn’t caused by a mening...    NaN      NaN  \n",
       "3422                                                NaN    NaN  unknown  "
      ]
     },
     "execution_count": 35,
     "metadata": {},
     "output_type": "execute_result"
    }
   ],
   "source": []
  },
  {
   "cell_type": "code",
   "execution_count": 27,
   "id": "763859f2",
   "metadata": {},
   "outputs": [
    {
     "data": {
      "text/plain": [
       "'{\"regexp\":\"(?=\\\\borgone\\\\b|\\\\borgonite\\\\b|\\\\bcloudbuster\\\\b|\\\\bWilhelm Reich\\\\b)(?=cancer)\"}'"
      ]
     },
     "execution_count": 27,
     "metadata": {},
     "output_type": "execute_result"
    }
   ],
   "source": [
    "claims['queries'][1000]"
   ]
  },
  {
   "cell_type": "code",
   "execution_count": 29,
   "id": "d15cca22",
   "metadata": {},
   "outputs": [
    {
     "data": {
      "text/plain": [
       "993               Native American healing\n",
       "994                           Naturopathy\n",
       "995                               Nerium \n",
       "996     Neuro-linguistic programming, NLP\n",
       "997                        Nieper therapy\n",
       "                      ...                \n",
       "3418                                  NaN\n",
       "3419                                  NaN\n",
       "3420                                  NaN\n",
       "3421                                  NaN\n",
       "3422                                  NaN\n",
       "Name: name, Length: 2430, dtype: object"
      ]
     },
     "execution_count": 29,
     "metadata": {},
     "output_type": "execute_result"
    }
   ],
   "source": [
    "claims['name']"
   ]
  },
  {
   "cell_type": "code",
   "execution_count": null,
   "id": "2703958f",
   "metadata": {},
   "outputs": [],
   "source": []
  },
  {
   "cell_type": "markdown",
   "id": "67bda1a8",
   "metadata": {},
   "source": [
    "# PubHealthTab"
   ]
  },
  {
   "cell_type": "code",
   "execution_count": 89,
   "id": "dfe7cc85",
   "metadata": {},
   "outputs": [
    {
     "data": {
      "text/html": [
       "<div>\n",
       "<style scoped>\n",
       "    .dataframe tbody tr th:only-of-type {\n",
       "        vertical-align: middle;\n",
       "    }\n",
       "\n",
       "    .dataframe tbody tr th {\n",
       "        vertical-align: top;\n",
       "    }\n",
       "\n",
       "    .dataframe thead th {\n",
       "        text-align: right;\n",
       "    }\n",
       "</style>\n",
       "<table border=\"1\" class=\"dataframe\">\n",
       "  <thead>\n",
       "    <tr style=\"text-align: right;\">\n",
       "      <th></th>\n",
       "      <th>title</th>\n",
       "      <th>text</th>\n",
       "      <th>source</th>\n",
       "      <th>label</th>\n",
       "    </tr>\n",
       "  </thead>\n",
       "  <tbody>\n",
       "    <tr>\n",
       "      <th>5174</th>\n",
       "      <td>Visualizing the State of Government Debt Aroun...</td>\n",
       "      <td>Our spending has caught up with us, and our de...</td>\n",
       "      <td>https://howmuch.net/articles/state-of-the-worl...</td>\n",
       "      <td>NOT ENOUGH INFO</td>\n",
       "    </tr>\n",
       "    <tr>\n",
       "      <th>5175</th>\n",
       "      <td>How much did the Apollo program cost? | The Pl...</td>\n",
       "      <td>Restored Mission Control comes alive 50 years ...</td>\n",
       "      <td>https://www.planetary.org/space-policy/cost-of...</td>\n",
       "      <td>NOT ENOUGH INFO</td>\n",
       "    </tr>\n",
       "    <tr>\n",
       "      <th>5176</th>\n",
       "      <td>Vaping-associated lung illness - Canada.ca</td>\n",
       "      <td>THC will be removed from drug-test screenings ...</td>\n",
       "      <td>https://www.canada.ca/en/public-health/service...</td>\n",
       "      <td>NOT ENOUGH INFO</td>\n",
       "    </tr>\n",
       "    <tr>\n",
       "      <th>5177</th>\n",
       "      <td>The Influence of Obesity on the Complication R...</td>\n",
       "      <td>Wrist replacement surgery is a last resort for...</td>\n",
       "      <td>https://journals.lww.com/jbjsjournal/Fulltext/...</td>\n",
       "      <td>NOT ENOUGH INFO</td>\n",
       "    </tr>\n",
       "    <tr>\n",
       "      <th>5178</th>\n",
       "      <td>Methotrexate Monograph for Professionals - Dru...</td>\n",
       "      <td>New psoriasis drug is more effective than curr...</td>\n",
       "      <td>https://www.drugs.com/monograph/methotrexate.html</td>\n",
       "      <td>NOT ENOUGH INFO</td>\n",
       "    </tr>\n",
       "  </tbody>\n",
       "</table>\n",
       "</div>"
      ],
      "text/plain": [
       "                                                  title  \\\n",
       "5174  Visualizing the State of Government Debt Aroun...   \n",
       "5175  How much did the Apollo program cost? | The Pl...   \n",
       "5176         Vaping-associated lung illness - Canada.ca   \n",
       "5177  The Influence of Obesity on the Complication R...   \n",
       "5178  Methotrexate Monograph for Professionals - Dru...   \n",
       "\n",
       "                                                   text  \\\n",
       "5174  Our spending has caught up with us, and our de...   \n",
       "5175  Restored Mission Control comes alive 50 years ...   \n",
       "5176  THC will be removed from drug-test screenings ...   \n",
       "5177  Wrist replacement surgery is a last resort for...   \n",
       "5178  New psoriasis drug is more effective than curr...   \n",
       "\n",
       "                                                 source            label  \n",
       "5174  https://howmuch.net/articles/state-of-the-worl...  NOT ENOUGH INFO  \n",
       "5175  https://www.planetary.org/space-policy/cost-of...  NOT ENOUGH INFO  \n",
       "5176  https://www.canada.ca/en/public-health/service...  NOT ENOUGH INFO  \n",
       "5177  https://journals.lww.com/jbjsjournal/Fulltext/...  NOT ENOUGH INFO  \n",
       "5178  https://www.drugs.com/monograph/methotrexate.html  NOT ENOUGH INFO  "
      ]
     },
     "execution_count": 89,
     "metadata": {},
     "output_type": "execute_result"
    }
   ],
   "source": [
    "pub_t=pd.read_json(\"D:\\Project_DLTM\\PubHealthTab-main\\data\\pubhealthtab.jsonl\",lines=True)\n",
    "pub_t['title']=[pub_t['table'][i]['website_title'] for i in range(pub_t.shape[0])]\n",
    "pub_t['source']=[pub_t['table'][i]['website'] for i in range(pub_t.shape[0])]\n",
    "pub_t.rename(columns={'claim':'text'},inplace=True)\n",
    "pub_t=pub_t[['title','text','source','label']]\n",
    "\n",
    "final_data = pd.concat([final_data, pub_t],axis=0, ignore_index=True)\n",
    "final_data.tail(5)"
   ]
  },
  {
   "cell_type": "code",
   "execution_count": 90,
   "id": "4aaa6f3f",
   "metadata": {},
   "outputs": [],
   "source": [
    "final_data.to_csv('D:\\\\Project_DLTM\\\\fakehealth.csv', index=False, encoding='utf-8-sig')"
   ]
  },
  {
   "cell_type": "markdown",
   "id": "f698083e",
   "metadata": {},
   "source": [
    "# Recovery-news"
   ]
  },
  {
   "cell_type": "code",
   "execution_count": 2,
   "id": "d43928fa",
   "metadata": {},
   "outputs": [
    {
     "data": {
      "text/html": [
       "<div>\n",
       "<style scoped>\n",
       "    .dataframe tbody tr th:only-of-type {\n",
       "        vertical-align: middle;\n",
       "    }\n",
       "\n",
       "    .dataframe tbody tr th {\n",
       "        vertical-align: top;\n",
       "    }\n",
       "\n",
       "    .dataframe thead th {\n",
       "        text-align: right;\n",
       "    }\n",
       "</style>\n",
       "<table border=\"1\" class=\"dataframe\">\n",
       "  <thead>\n",
       "    <tr style=\"text-align: right;\">\n",
       "      <th></th>\n",
       "      <th>Unnamed: 0</th>\n",
       "      <th>news_id</th>\n",
       "      <th>url</th>\n",
       "      <th>publisher</th>\n",
       "      <th>publish_date</th>\n",
       "      <th>author</th>\n",
       "      <th>title</th>\n",
       "      <th>image</th>\n",
       "      <th>body_text</th>\n",
       "      <th>political_bias</th>\n",
       "      <th>country</th>\n",
       "      <th>reliability</th>\n",
       "    </tr>\n",
       "  </thead>\n",
       "  <tbody>\n",
       "    <tr>\n",
       "      <th>0</th>\n",
       "      <td>0</td>\n",
       "      <td>0</td>\n",
       "      <td>https://www.nytimes.com/article/what-is-corona...</td>\n",
       "      <td>The New York Times</td>\n",
       "      <td>2020-01-21</td>\n",
       "      <td>['Knvul Sheikh', 'Roni Caryn Rabin']</td>\n",
       "      <td>The Coronavirus: What Scientists Have Learned ...</td>\n",
       "      <td>https://static01.nyt.com/images/2020/03/12/sci...</td>\n",
       "      <td>\\nA novel respiratory virus that originated in...</td>\n",
       "      <td>Left</td>\n",
       "      <td>USA</td>\n",
       "      <td>1</td>\n",
       "    </tr>\n",
       "  </tbody>\n",
       "</table>\n",
       "</div>"
      ],
      "text/plain": [
       "   Unnamed: 0  news_id                                                url  \\\n",
       "0           0        0  https://www.nytimes.com/article/what-is-corona...   \n",
       "\n",
       "            publisher publish_date                                author  \\\n",
       "0  The New York Times   2020-01-21  ['Knvul Sheikh', 'Roni Caryn Rabin']   \n",
       "\n",
       "                                               title  \\\n",
       "0  The Coronavirus: What Scientists Have Learned ...   \n",
       "\n",
       "                                               image  \\\n",
       "0  https://static01.nyt.com/images/2020/03/12/sci...   \n",
       "\n",
       "                                           body_text political_bias country  \\\n",
       "0  \\nA novel respiratory virus that originated in...           Left     USA   \n",
       "\n",
       "   reliability  \n",
       "0            1  "
      ]
     },
     "execution_count": 2,
     "metadata": {},
     "output_type": "execute_result"
    }
   ],
   "source": [
    "import pandas as pd\n",
    "\n",
    "data=pd.read_csv(\"D:\\Project_DLTM\\\\recovery-news-data.csv\")\n",
    "data.head(1)"
   ]
  },
  {
   "cell_type": "code",
   "execution_count": 22,
   "id": "37bb6610",
   "metadata": {},
   "outputs": [],
   "source": [
    "data.rename(columns={'body_text':'text','publisher':'source','reliability':'label'},inplace=True)\n",
    "recovery=data[['title','text','source','label']].copy()\n",
    "# data.columns"
   ]
  },
  {
   "cell_type": "code",
   "execution_count": 24,
   "id": "b7275c06",
   "metadata": {},
   "outputs": [],
   "source": [
    "recovery['label']=recovery['label'].map({1:'Realiable',0:'Unreliable'})"
   ]
  },
  {
   "cell_type": "code",
   "execution_count": 26,
   "id": "8b72ad51",
   "metadata": {},
   "outputs": [],
   "source": [
    "final_data=pd.read_csv('D:\\\\Project_DLTM\\\\fakehealth.csv')\n",
    "final_data=pd.concat((final_data,recovery))\n",
    "final_data.to_csv('D:\\\\Project_DLTM\\\\fakehealth.csv', index=False, encoding='utf-8-sig')"
   ]
  },
  {
   "cell_type": "code",
   "execution_count": 27,
   "id": "1c07d2d5",
   "metadata": {},
   "outputs": [
    {
     "data": {
      "text/plain": [
       "(7208, 4)"
      ]
     },
     "execution_count": 27,
     "metadata": {},
     "output_type": "execute_result"
    }
   ],
   "source": [
    "final_data.shape"
   ]
  },
  {
   "cell_type": "markdown",
   "id": "73cb9629",
   "metadata": {},
   "source": [
    "# Hover"
   ]
  },
  {
   "cell_type": "code",
   "execution_count": 28,
   "id": "e68d1453",
   "metadata": {},
   "outputs": [
    {
     "data": {
      "text/html": [
       "<div>\n",
       "<style scoped>\n",
       "    .dataframe tbody tr th:only-of-type {\n",
       "        vertical-align: middle;\n",
       "    }\n",
       "\n",
       "    .dataframe tbody tr th {\n",
       "        vertical-align: top;\n",
       "    }\n",
       "\n",
       "    .dataframe thead th {\n",
       "        text-align: right;\n",
       "    }\n",
       "</style>\n",
       "<table border=\"1\" class=\"dataframe\">\n",
       "  <thead>\n",
       "    <tr style=\"text-align: right;\">\n",
       "      <th></th>\n",
       "      <th>uid</th>\n",
       "      <th>claim</th>\n",
       "      <th>supporting_facts</th>\n",
       "      <th>label</th>\n",
       "      <th>num_hops</th>\n",
       "      <th>hpqa_id</th>\n",
       "    </tr>\n",
       "  </thead>\n",
       "  <tbody>\n",
       "    <tr>\n",
       "      <th>0</th>\n",
       "      <td>330ca632-e83f-4011-b11b-0d0158145036</td>\n",
       "      <td>Skagen Painter Peder Severin Krøyer favored na...</td>\n",
       "      <td>[[Kristian Zahrtmann, 0], [Kristian Zahrtmann,...</td>\n",
       "      <td>SUPPORTED</td>\n",
       "      <td>3</td>\n",
       "      <td>5ab7a86d5542995dae37e986</td>\n",
       "    </tr>\n",
       "    <tr>\n",
       "      <th>1</th>\n",
       "      <td>ca7db8e1-799a-4498-b31b-b1a430b5874e</td>\n",
       "      <td>Skagen Painter Peder Severin Krøyer favored na...</td>\n",
       "      <td>[[Kristian Zahrtmann, 0], [Kristian Zahrtmann,...</td>\n",
       "      <td>SUPPORTED</td>\n",
       "      <td>3</td>\n",
       "      <td>5ab7a86d5542995dae37e986</td>\n",
       "    </tr>\n",
       "    <tr>\n",
       "      <th>2</th>\n",
       "      <td>2e9cf58a-40e1-47ee-aaa8-3b84ebe94cd0</td>\n",
       "      <td>Skagen Painter Peder Severin Krøyer favored na...</td>\n",
       "      <td>[[Kristian Zahrtmann, 0], [Kristian Zahrtmann,...</td>\n",
       "      <td>NOT_SUPPORTED</td>\n",
       "      <td>3</td>\n",
       "      <td>5ab7a86d5542995dae37e986</td>\n",
       "    </tr>\n",
       "    <tr>\n",
       "      <th>3</th>\n",
       "      <td>f2f4b69d-d833-4f6d-a630-f156a2559af6</td>\n",
       "      <td>Skagen Painter, who painted the 1893 painting ...</td>\n",
       "      <td>[[Kristian Zahrtmann, 0], [Kristian Zahrtmann,...</td>\n",
       "      <td>NOT_SUPPORTED</td>\n",
       "      <td>4</td>\n",
       "      <td>5ab7a86d5542995dae37e986</td>\n",
       "    </tr>\n",
       "    <tr>\n",
       "      <th>4</th>\n",
       "      <td>824c8ffa-da36-45ea-9f68-0342e3893a63</td>\n",
       "      <td>Skagen Painter Peder Severin Krøyer favored na...</td>\n",
       "      <td>[[Kristian Zahrtmann, 0], [Kristian Zahrtmann,...</td>\n",
       "      <td>NOT_SUPPORTED</td>\n",
       "      <td>3</td>\n",
       "      <td>5ab7a86d5542995dae37e986</td>\n",
       "    </tr>\n",
       "  </tbody>\n",
       "</table>\n",
       "</div>"
      ],
      "text/plain": [
       "                                    uid  \\\n",
       "0  330ca632-e83f-4011-b11b-0d0158145036   \n",
       "1  ca7db8e1-799a-4498-b31b-b1a430b5874e   \n",
       "2  2e9cf58a-40e1-47ee-aaa8-3b84ebe94cd0   \n",
       "3  f2f4b69d-d833-4f6d-a630-f156a2559af6   \n",
       "4  824c8ffa-da36-45ea-9f68-0342e3893a63   \n",
       "\n",
       "                                               claim  \\\n",
       "0  Skagen Painter Peder Severin Krøyer favored na...   \n",
       "1  Skagen Painter Peder Severin Krøyer favored na...   \n",
       "2  Skagen Painter Peder Severin Krøyer favored na...   \n",
       "3  Skagen Painter, who painted the 1893 painting ...   \n",
       "4  Skagen Painter Peder Severin Krøyer favored na...   \n",
       "\n",
       "                                    supporting_facts          label  num_hops  \\\n",
       "0  [[Kristian Zahrtmann, 0], [Kristian Zahrtmann,...      SUPPORTED         3   \n",
       "1  [[Kristian Zahrtmann, 0], [Kristian Zahrtmann,...      SUPPORTED         3   \n",
       "2  [[Kristian Zahrtmann, 0], [Kristian Zahrtmann,...  NOT_SUPPORTED         3   \n",
       "3  [[Kristian Zahrtmann, 0], [Kristian Zahrtmann,...  NOT_SUPPORTED         4   \n",
       "4  [[Kristian Zahrtmann, 0], [Kristian Zahrtmann,...  NOT_SUPPORTED         3   \n",
       "\n",
       "                    hpqa_id  \n",
       "0  5ab7a86d5542995dae37e986  \n",
       "1  5ab7a86d5542995dae37e986  \n",
       "2  5ab7a86d5542995dae37e986  \n",
       "3  5ab7a86d5542995dae37e986  \n",
       "4  5ab7a86d5542995dae37e986  "
      ]
     },
     "execution_count": 28,
     "metadata": {},
     "output_type": "execute_result"
    }
   ],
   "source": [
    "data=pd.read_json(\"D:\\Project_DLTM\\hover_train_release_v1.1.json\")\n",
    "data.head()"
   ]
  },
  {
   "cell_type": "code",
   "execution_count": 45,
   "id": "feaf6af7",
   "metadata": {},
   "outputs": [
    {
     "data": {
      "text/plain": [
       "'The free agent quarterback acquired for the 2015 Buffalo Bills season played college football at Virginia Tech.'"
      ]
     },
     "execution_count": 45,
     "metadata": {},
     "output_type": "execute_result"
    }
   ],
   "source": [
    "data[data['label']=='SUPPORTED']['claim'][18167]"
   ]
  },
  {
   "cell_type": "code",
   "execution_count": null,
   "id": "e87e9fad",
   "metadata": {},
   "outputs": [],
   "source": []
  },
  {
   "cell_type": "markdown",
   "id": "37450308",
   "metadata": {},
   "source": [
    "# Final Data Processing"
   ]
  },
  {
   "cell_type": "code",
   "execution_count": 7,
   "id": "f2842d79",
   "metadata": {},
   "outputs": [
    {
     "data": {
      "application/javascript": "\n        if (window._pyforest_update_imports_cell) { window._pyforest_update_imports_cell('import pandas as pd'); }\n    ",
      "text/plain": [
       "<IPython.core.display.Javascript object>"
      ]
     },
     "metadata": {},
     "output_type": "display_data"
    },
    {
     "data": {
      "text/plain": [
       "(9638, 6)"
      ]
     },
     "execution_count": 7,
     "metadata": {},
     "output_type": "execute_result"
    }
   ],
   "source": [
    "final_data=pd.read_csv('D:\\\\Project_DLTM\\\\model_data.csv')\n",
    "final_data.shape"
   ]
  },
  {
   "cell_type": "code",
   "execution_count": 8,
   "id": "bd3ec3ee",
   "metadata": {},
   "outputs": [
    {
     "data": {
      "text/html": [
       "<div>\n",
       "<style scoped>\n",
       "    .dataframe tbody tr th:only-of-type {\n",
       "        vertical-align: middle;\n",
       "    }\n",
       "\n",
       "    .dataframe tbody tr th {\n",
       "        vertical-align: top;\n",
       "    }\n",
       "\n",
       "    .dataframe thead th {\n",
       "        text-align: right;\n",
       "    }\n",
       "</style>\n",
       "<table border=\"1\" class=\"dataframe\">\n",
       "  <thead>\n",
       "    <tr style=\"text-align: right;\">\n",
       "      <th></th>\n",
       "      <th>title</th>\n",
       "      <th>text</th>\n",
       "      <th>source</th>\n",
       "      <th>label</th>\n",
       "      <th>complete</th>\n",
       "      <th>cleaned_text</th>\n",
       "    </tr>\n",
       "  </thead>\n",
       "  <tbody>\n",
       "    <tr>\n",
       "      <th>0</th>\n",
       "      <td>Tiny implantable device short-circuits hunger ...</td>\n",
       "      <td>MADISON, Wis. -- More than 700 million adults ...</td>\n",
       "      <td>https://web.archive.org</td>\n",
       "      <td>Fake</td>\n",
       "      <td>Tiny implantable device short-circuits hunger ...</td>\n",
       "      <td>tiny implantable device shortcircuits hunger p...</td>\n",
       "    </tr>\n",
       "    <tr>\n",
       "      <th>1</th>\n",
       "      <td>Scientists report CRISPR restores effectivenes...</td>\n",
       "      <td>Wilmington, DE, December 17, 2018 - The CRISPR...</td>\n",
       "      <td>https://web.archive.org</td>\n",
       "      <td>Fake</td>\n",
       "      <td>Scientists report CRISPR restores effectivenes...</td>\n",
       "      <td>scientists report crispr restores effectivenes...</td>\n",
       "    </tr>\n",
       "    <tr>\n",
       "      <th>2</th>\n",
       "      <td>Probiotics could help millions of patients suf...</td>\n",
       "      <td>About 3 million people in the US are diagnosed...</td>\n",
       "      <td>https://web.archive.org</td>\n",
       "      <td>Fake</td>\n",
       "      <td>Probiotics could help millions of patients suf...</td>\n",
       "      <td>probiotics could help millions of patients suf...</td>\n",
       "    </tr>\n",
       "  </tbody>\n",
       "</table>\n",
       "</div>"
      ],
      "text/plain": [
       "                                               title  \\\n",
       "0  Tiny implantable device short-circuits hunger ...   \n",
       "1  Scientists report CRISPR restores effectivenes...   \n",
       "2  Probiotics could help millions of patients suf...   \n",
       "\n",
       "                                                text                   source  \\\n",
       "0  MADISON, Wis. -- More than 700 million adults ...  https://web.archive.org   \n",
       "1  Wilmington, DE, December 17, 2018 - The CRISPR...  https://web.archive.org   \n",
       "2  About 3 million people in the US are diagnosed...  https://web.archive.org   \n",
       "\n",
       "  label                                           complete  \\\n",
       "0  Fake  Tiny implantable device short-circuits hunger ...   \n",
       "1  Fake  Scientists report CRISPR restores effectivenes...   \n",
       "2  Fake  Probiotics could help millions of patients suf...   \n",
       "\n",
       "                                        cleaned_text  \n",
       "0  tiny implantable device shortcircuits hunger p...  \n",
       "1  scientists report crispr restores effectivenes...  \n",
       "2  probiotics could help millions of patients suf...  "
      ]
     },
     "execution_count": 8,
     "metadata": {},
     "output_type": "execute_result"
    }
   ],
   "source": [
    "final_data.head(3)"
   ]
  },
  {
   "cell_type": "code",
   "execution_count": 3,
   "id": "4bc158ec",
   "metadata": {},
   "outputs": [],
   "source": [
    "final_data['source'].fillna('Source Unknown',inplace=True)"
   ]
  },
  {
   "cell_type": "code",
   "execution_count": 5,
   "id": "b26c8769",
   "metadata": {},
   "outputs": [],
   "source": [
    "final_data.fillna('info not available',inplace=True)"
   ]
  },
  {
   "cell_type": "code",
   "execution_count": 12,
   "id": "5f006e80",
   "metadata": {},
   "outputs": [
    {
     "data": {
      "text/html": [
       "<div>\n",
       "<style scoped>\n",
       "    .dataframe tbody tr th:only-of-type {\n",
       "        vertical-align: middle;\n",
       "    }\n",
       "\n",
       "    .dataframe tbody tr th {\n",
       "        vertical-align: top;\n",
       "    }\n",
       "\n",
       "    .dataframe thead th {\n",
       "        text-align: right;\n",
       "    }\n",
       "</style>\n",
       "<table border=\"1\" class=\"dataframe\">\n",
       "  <thead>\n",
       "    <tr style=\"text-align: right;\">\n",
       "      <th></th>\n",
       "      <th>title</th>\n",
       "      <th>text</th>\n",
       "      <th>source</th>\n",
       "      <th>label</th>\n",
       "      <th>complete</th>\n",
       "      <th>cleaned_text</th>\n",
       "    </tr>\n",
       "  </thead>\n",
       "  <tbody>\n",
       "    <tr>\n",
       "      <th>9538</th>\n",
       "      <td>Covid vaccines can’t stop people spreading the...</td>\n",
       "      <td>Lionel Shriver is wrong to say that Covid-19 v...</td>\n",
       "      <td>Source Unknown</td>\n",
       "      <td>NaN</td>\n",
       "      <td>Covid vaccines can’t stop people spreading the...</td>\n",
       "      <td>covid vaccines can t stop people spreading the...</td>\n",
       "    </tr>\n",
       "    <tr>\n",
       "      <th>9539</th>\n",
       "      <td>Vaccinated people over 30 have higher rates of...</td>\n",
       "      <td>Lionel Shriver is wrong to say that Covid-19 v...</td>\n",
       "      <td>Source Unknown</td>\n",
       "      <td>NaN</td>\n",
       "      <td>Vaccinated people over 30 have higher rates of...</td>\n",
       "      <td>vaccinated people over   have higher rates of ...</td>\n",
       "    </tr>\n",
       "    <tr>\n",
       "      <th>9540</th>\n",
       "      <td>Weight loss pills advertised on Facebook have ...</td>\n",
       "      <td>Facebook posts falsely advertise weight loss p...</td>\n",
       "      <td>Source Unknown</td>\n",
       "      <td>NaN</td>\n",
       "      <td>Weight loss pills advertised on Facebook have ...</td>\n",
       "      <td>weight loss pills advertised on facebook have ...</td>\n",
       "    </tr>\n",
       "    <tr>\n",
       "      <th>9541</th>\n",
       "      <td>90% of people in hospital with Covid-19 are un...</td>\n",
       "      <td>Lorraine Kelly and her guests were wrong about...</td>\n",
       "      <td>Source Unknown</td>\n",
       "      <td>NaN</td>\n",
       "      <td>90% of people in hospital with Covid-19 are un...</td>\n",
       "      <td>of people in hospital with covid  are unvacc...</td>\n",
       "    </tr>\n",
       "    <tr>\n",
       "      <th>9542</th>\n",
       "      <td>In Germany, a fence separates vaccinated and u...</td>\n",
       "      <td>No, a fence in a shopping mall wasn't used to ...</td>\n",
       "      <td>Source Unknown</td>\n",
       "      <td>false</td>\n",
       "      <td>In Germany, a fence separates vaccinated and u...</td>\n",
       "      <td>in germany a fence separates vaccinated and un...</td>\n",
       "    </tr>\n",
       "    <tr>\n",
       "      <th>...</th>\n",
       "      <td>...</td>\n",
       "      <td>...</td>\n",
       "      <td>...</td>\n",
       "      <td>...</td>\n",
       "      <td>...</td>\n",
       "      <td>...</td>\n",
       "    </tr>\n",
       "    <tr>\n",
       "      <th>9633</th>\n",
       "      <td>Total Deaths From COVID MUCH LOWER Than Reported”</td>\n",
       "      <td>COVID-19 deaths in people with pre-existing he...</td>\n",
       "      <td>Source Unknown</td>\n",
       "      <td>NaN</td>\n",
       "      <td>Total Deaths From COVID MUCH LOWER Than Report...</td>\n",
       "      <td>total deaths from covid much lower than report...</td>\n",
       "    </tr>\n",
       "    <tr>\n",
       "      <th>9634</th>\n",
       "      <td>Worldwide Data suggests Fully Vaccinated [peop...</td>\n",
       "      <td>The COVID-19 vaccines protect people from seve...</td>\n",
       "      <td>Source Unknown</td>\n",
       "      <td>false</td>\n",
       "      <td>Worldwide Data suggests Fully Vaccinated [peop...</td>\n",
       "      <td>worldwide data suggests fully vaccinated peopl...</td>\n",
       "    </tr>\n",
       "    <tr>\n",
       "      <th>9635</th>\n",
       "      <td>The Spanish Flu wasn’t a flu virus, it was a b...</td>\n",
       "      <td>Spanish Flu pandemic wasn’t caused by a mening...</td>\n",
       "      <td>Source Unknown</td>\n",
       "      <td>NaN</td>\n",
       "      <td>The Spanish Flu wasn’t a flu virus, it was a b...</td>\n",
       "      <td>the spanish flu wasn t a flu virus it was a ba...</td>\n",
       "    </tr>\n",
       "    <tr>\n",
       "      <th>9636</th>\n",
       "      <td>The Spanish Flu did not originate in Spain. It...</td>\n",
       "      <td>Spanish Flu pandemic wasn’t caused by a mening...</td>\n",
       "      <td>Source Unknown</td>\n",
       "      <td>NaN</td>\n",
       "      <td>The Spanish Flu did not originate in Spain. It...</td>\n",
       "      <td>the spanish flu did not originate in spain it ...</td>\n",
       "    </tr>\n",
       "    <tr>\n",
       "      <th>9637</th>\n",
       "      <td>Do bananas help with cramp?</td>\n",
       "      <td>NaN</td>\n",
       "      <td>Source Unknown</td>\n",
       "      <td>unknown</td>\n",
       "      <td>NaN</td>\n",
       "      <td>NaN</td>\n",
       "    </tr>\n",
       "  </tbody>\n",
       "</table>\n",
       "<p>100 rows × 6 columns</p>\n",
       "</div>"
      ],
      "text/plain": [
       "                                                  title  \\\n",
       "9538  Covid vaccines can’t stop people spreading the...   \n",
       "9539  Vaccinated people over 30 have higher rates of...   \n",
       "9540  Weight loss pills advertised on Facebook have ...   \n",
       "9541  90% of people in hospital with Covid-19 are un...   \n",
       "9542  In Germany, a fence separates vaccinated and u...   \n",
       "...                                                 ...   \n",
       "9633  Total Deaths From COVID MUCH LOWER Than Reported”   \n",
       "9634  Worldwide Data suggests Fully Vaccinated [peop...   \n",
       "9635  The Spanish Flu wasn’t a flu virus, it was a b...   \n",
       "9636  The Spanish Flu did not originate in Spain. It...   \n",
       "9637                        Do bananas help with cramp?   \n",
       "\n",
       "                                                   text          source  \\\n",
       "9538  Lionel Shriver is wrong to say that Covid-19 v...  Source Unknown   \n",
       "9539  Lionel Shriver is wrong to say that Covid-19 v...  Source Unknown   \n",
       "9540  Facebook posts falsely advertise weight loss p...  Source Unknown   \n",
       "9541  Lorraine Kelly and her guests were wrong about...  Source Unknown   \n",
       "9542  No, a fence in a shopping mall wasn't used to ...  Source Unknown   \n",
       "...                                                 ...             ...   \n",
       "9633  COVID-19 deaths in people with pre-existing he...  Source Unknown   \n",
       "9634  The COVID-19 vaccines protect people from seve...  Source Unknown   \n",
       "9635  Spanish Flu pandemic wasn’t caused by a mening...  Source Unknown   \n",
       "9636  Spanish Flu pandemic wasn’t caused by a mening...  Source Unknown   \n",
       "9637                                                NaN  Source Unknown   \n",
       "\n",
       "        label                                           complete  \\\n",
       "9538      NaN  Covid vaccines can’t stop people spreading the...   \n",
       "9539      NaN  Vaccinated people over 30 have higher rates of...   \n",
       "9540      NaN  Weight loss pills advertised on Facebook have ...   \n",
       "9541      NaN  90% of people in hospital with Covid-19 are un...   \n",
       "9542    false  In Germany, a fence separates vaccinated and u...   \n",
       "...       ...                                                ...   \n",
       "9633      NaN  Total Deaths From COVID MUCH LOWER Than Report...   \n",
       "9634    false  Worldwide Data suggests Fully Vaccinated [peop...   \n",
       "9635      NaN  The Spanish Flu wasn’t a flu virus, it was a b...   \n",
       "9636      NaN  The Spanish Flu did not originate in Spain. It...   \n",
       "9637  unknown                                                NaN   \n",
       "\n",
       "                                           cleaned_text  \n",
       "9538  covid vaccines can t stop people spreading the...  \n",
       "9539  vaccinated people over   have higher rates of ...  \n",
       "9540  weight loss pills advertised on facebook have ...  \n",
       "9541    of people in hospital with covid  are unvacc...  \n",
       "9542  in germany a fence separates vaccinated and un...  \n",
       "...                                                 ...  \n",
       "9633  total deaths from covid much lower than report...  \n",
       "9634  worldwide data suggests fully vaccinated peopl...  \n",
       "9635  the spanish flu wasn t a flu virus it was a ba...  \n",
       "9636  the spanish flu did not originate in spain it ...  \n",
       "9637                                                NaN  \n",
       "\n",
       "[100 rows x 6 columns]"
      ]
     },
     "execution_count": 12,
     "metadata": {},
     "output_type": "execute_result"
    }
   ],
   "source": [
    "final_data.tail(100)"
   ]
  },
  {
   "cell_type": "code",
   "execution_count": null,
   "id": "e8c3cef8",
   "metadata": {},
   "outputs": [],
   "source": [
    "# final_data['complete']=final_data['title']+final_data['text']+final_data['source']"
   ]
  },
  {
   "cell_type": "code",
   "execution_count": 45,
   "id": "0cdb3708",
   "metadata": {},
   "outputs": [],
   "source": [
    "import re\n",
    "import string\n",
    "from bs4 import BeautifulSoup\n",
    "\n",
    "def clean_text(text):\n",
    "    text=str(text).lower()\n",
    "    text=re.sub(r'\\d+',' ',text) #remove numbers\n",
    "    text=text.translate(str.maketrans('', '',string.punctuation)) #remove punctuation\n",
    "    text = re.sub(r'\\W',' ',text) #remove special chars\n",
    "    text = BeautifulSoup(text,'html.parser').get_text()\n",
    "    return text\n",
    "\n",
    "final_data['cleaned_text']=[clean_text(text) for text in final_data['complete']]"
   ]
  },
  {
   "cell_type": "code",
   "execution_count": 47,
   "id": "31d5d91b",
   "metadata": {},
   "outputs": [
    {
     "data": {
      "text/html": [
       "<div>\n",
       "<style scoped>\n",
       "    .dataframe tbody tr th:only-of-type {\n",
       "        vertical-align: middle;\n",
       "    }\n",
       "\n",
       "    .dataframe tbody tr th {\n",
       "        vertical-align: top;\n",
       "    }\n",
       "\n",
       "    .dataframe thead th {\n",
       "        text-align: right;\n",
       "    }\n",
       "</style>\n",
       "<table border=\"1\" class=\"dataframe\">\n",
       "  <thead>\n",
       "    <tr style=\"text-align: right;\">\n",
       "      <th></th>\n",
       "      <th>title</th>\n",
       "      <th>text</th>\n",
       "      <th>source</th>\n",
       "      <th>label</th>\n",
       "      <th>complete</th>\n",
       "      <th>cleaned_text</th>\n",
       "    </tr>\n",
       "  </thead>\n",
       "  <tbody>\n",
       "    <tr>\n",
       "      <th>0</th>\n",
       "      <td>Tiny implantable device short-circuits hunger ...</td>\n",
       "      <td>MADISON, Wis. -- More than 700 million adults ...</td>\n",
       "      <td>https://web.archive.org</td>\n",
       "      <td>Fake</td>\n",
       "      <td>Tiny implantable device short-circuits hunger ...</td>\n",
       "      <td>tiny implantable device shortcircuits hunger p...</td>\n",
       "    </tr>\n",
       "    <tr>\n",
       "      <th>1</th>\n",
       "      <td>Scientists report CRISPR restores effectivenes...</td>\n",
       "      <td>Wilmington, DE, December 17, 2018 - The CRISPR...</td>\n",
       "      <td>https://web.archive.org</td>\n",
       "      <td>Fake</td>\n",
       "      <td>Scientists report CRISPR restores effectivenes...</td>\n",
       "      <td>scientists report crispr restores effectivenes...</td>\n",
       "    </tr>\n",
       "  </tbody>\n",
       "</table>\n",
       "</div>"
      ],
      "text/plain": [
       "                                               title  \\\n",
       "0  Tiny implantable device short-circuits hunger ...   \n",
       "1  Scientists report CRISPR restores effectivenes...   \n",
       "\n",
       "                                                text                   source  \\\n",
       "0  MADISON, Wis. -- More than 700 million adults ...  https://web.archive.org   \n",
       "1  Wilmington, DE, December 17, 2018 - The CRISPR...  https://web.archive.org   \n",
       "\n",
       "  label                                           complete  \\\n",
       "0  Fake  Tiny implantable device short-circuits hunger ...   \n",
       "1  Fake  Scientists report CRISPR restores effectivenes...   \n",
       "\n",
       "                                        cleaned_text  \n",
       "0  tiny implantable device shortcircuits hunger p...  \n",
       "1  scientists report crispr restores effectivenes...  "
      ]
     },
     "execution_count": 47,
     "metadata": {},
     "output_type": "execute_result"
    }
   ],
   "source": [
    "final_data.head(2)"
   ]
  },
  {
   "cell_type": "code",
   "execution_count": 49,
   "id": "9842dce0",
   "metadata": {},
   "outputs": [
    {
     "data": {
      "text/plain": [
       "'tiny implantable device shortcircuits hunger pangs aids weight lossmadison wis  more than   million adults and children worldwide are obese according to a   study that called the growing number and weightrelated health problems a rising pandemic  new batteryfree easily implantable weightloss devices developed by engineers at the university of wisconsinmadison could offer a promising new weapon for battling the bulge  in laboratory testing the devices helped rats shed almost   percent of their body weight results of the study were published today dec     in the journal nature communications  measuring less than   centimeter across or about a third of the area of a us penny the tiny devices  which are safe for use in the body and implantable via a minimally invasive procedure  generate gentle electric pulses from the stomachs natural churning motions and deliver them to the vagus nerve which links the brain and the stomach  that gentle stimulation dupes the brain into thinking that the stomach is full after only a few nibbles of food  the pulses correlate with the stomachs motions enhancing a natural response to help control food intake says xudong wang a uwmadison professor of materials science and engineering  unlike gastric bypass which permanently alters the capacity of the stomach the effects of the new devices also are reversible when wang and his collaborators removed the devices after   weeks the studys rats resumed their normal eating patterns and weight bounced right back on  wangs device has several advantages over an existing unit that stimulates the vagus nerve for weight loss that existing unit maestro approved by the food and drug administration in   administers highfrequency zaps to the vagus nerve to shut down all communication between the brain and stomach it requires a complicated control unit and bulky batteries which frequently must be recharged  that ongoing maintenance can be a big barrier to use says luke funk a surgery professor in uwmadisons division of minimally invasive foregut and bariatric surgery one potential advantage of the new device over existing vagus nerve stimulators is that it does not require external battery charging which is a significant advantage when you consider the inconvenience that patients experience when having to charge a battery multiple times a week for an hour or so  in fact wangs device contains no batteries no electronics and no complicated wiring it relies instead on the undulations of the stomach walls to power its internal generators  that means the device only stimulates the vagus nerve when the stomach moves  its automatically responsive to our body function producing stimulation when needed says wang our body knows best  wang is a world expert in wearable and implantable capacitive electricitygenerating devices having previously created implantable nanogenerators that harvest energy from peoples beating hearts and breathing a motionpowered bandage for wound healing and other such devices  he and his collaborators patented the weightloss device through the wisconsin alumni research foundation and are moving forward with testing in larger animal models if successful they hope to move toward human trials  our expectation is that the device will be more effective and convenient to use than other technologies says wang    uwmadison radiology professor weibo cai is also a senior author on the study  this research was supported by grants from the national institutes of health r eb  and p ca   sam millionweaver      millionweavewisceduhttpswebarchiveorg'"
      ]
     },
     "execution_count": 49,
     "metadata": {},
     "output_type": "execute_result"
    }
   ],
   "source": [
    "final_data['cleaned_text'][0]"
   ]
  },
  {
   "cell_type": "code",
   "execution_count": 14,
   "id": "8144e595",
   "metadata": {},
   "outputs": [],
   "source": [
    "final_data.to_csv('model_data_2.csv',encoding='utf-8',index=False)"
   ]
  },
  {
   "cell_type": "code",
   "execution_count": 15,
   "id": "f3354cc9",
   "metadata": {},
   "outputs": [
    {
     "data": {
      "text/plain": [
       "(9638, 6)"
      ]
     },
     "execution_count": 15,
     "metadata": {},
     "output_type": "execute_result"
    }
   ],
   "source": [
    "final_data.shape"
   ]
  },
  {
   "cell_type": "code",
   "execution_count": null,
   "id": "9ff5b100",
   "metadata": {},
   "outputs": [],
   "source": []
  }
 ],
 "metadata": {
  "kernelspec": {
   "display_name": "Python 3",
   "language": "python",
   "name": "python3"
  },
  "language_info": {
   "codemirror_mode": {
    "name": "ipython",
    "version": 3
   },
   "file_extension": ".py",
   "mimetype": "text/x-python",
   "name": "python",
   "nbconvert_exporter": "python",
   "pygments_lexer": "ipython3",
   "version": "3.10.5"
  }
 },
 "nbformat": 4,
 "nbformat_minor": 5
}
