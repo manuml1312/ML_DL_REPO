{
  "cells": [
    {
      "cell_type": "code",
      "execution_count": 2,
      "metadata": {
        "id": "m7FNKnFkw8Ov"
      },
      "outputs": [],
      "source": [
        "import numpy as np\n",
        "\n",
        "def split(matrix):\n",
        "    row, col = matrix.shape\n",
        "    #int(row,col)\n",
        "    row2, col2 = row//2, col//2\n",
        "    #print(row2,col2)\n",
        "    return matrix[:row2, :col2], matrix[:row2, col2:], matrix[row2:, :col2], matrix[row2:, col2:]\n",
        "\n",
        "def strassen(x, y):\n",
        "\n",
        "\t# Base case when size of matrices is 1x1\n",
        "\tif x.shape[0] == 1:\n",
        "\t\treturn x * y\n",
        "\n",
        "\t# Splitting the matrices into quadrants. This will be done recursively\n",
        "\t# untill the base case is reached.\n",
        "\ta, b, c, d = split(x)\n",
        "\te, f, g, h = split(y)\n",
        "\n",
        "\t# Computing the 7 products, recursively (p1, p2...p7)\n",
        "\tp1 = strassen(a, f - h)\n",
        "\tp2 = strassen(a + b, h)\n",
        "\tp3 = strassen(c + d, e)\n",
        "\tp4 = strassen(d, g - e)\n",
        "\tp5 = strassen(a + d, e + h)\n",
        "\tp6 = strassen(b - d, g + h)\n",
        "\tp7 = strassen(a - c, e + f)\n",
        "\n",
        "\t# Computing the values of the 4 quadrants of the final matrix c\n",
        "\tc11 = p5 + p4 - p2 + p6\n",
        "\tc12 = p1 + p2\n",
        "\tc21 = p3 + p4\n",
        "\tc22 = p1 + p5 - p3 - p7\n",
        "\n",
        "\t# Combining the 4 quadrants into a single matrix by stacking horizontally and vertically.\n",
        "\tc = np.vstack((np.hstack((c11, c12)), np.hstack((c21, c22))))\n",
        "\treturn c"
      ]
    },
    {
      "cell_type": "code",
      "execution_count": 3,
      "metadata": {
        "colab": {
          "base_uri": "https://localhost:8080/"
        },
        "id": "0YdAl9Nc5rQr",
        "outputId": "e37a73ff-94e8-4ff3-bb34-d1790b048085"
      },
      "outputs": [
        {
          "name": "stdout",
          "output_type": "stream",
          "text": [
            "Enter the entries in a single line (separated by space): \n",
            "[[1 2]\n",
            " [3 4]]\n",
            "Enter the entries in a single line (separated by space): \n",
            "[[3 4]\n",
            " [5 6]]\n"
          ]
        }
      ],
      "source": [
        "R = int(input(\"Enter the number of rows:\"))\n",
        "C = int(input(\"Enter the number of columns:\"))\n",
        "\n",
        "print(\"Enter the entries in a single line (separated by space): \")\n",
        "# User input of entries in a single line separated by space\n",
        "entries_X = list(map(int, input().split()))\n",
        "\n",
        "# For printing the matrix X\n",
        "X = np.array(entries_X).reshape(R, C)\n",
        "print(X)\n",
        "\n",
        "print(\"Enter the entries in a single line (separated by space): \")\n",
        "entries_Y= list(map(int, input().split()))\n",
        "\n",
        "# For printing the matrix Y\n",
        "Y = np.array(entries_Y).reshape(R, C)\n",
        "print(Y)"
      ]
    },
    {
      "cell_type": "code",
      "execution_count": 4,
      "metadata": {
        "colab": {
          "base_uri": "https://localhost:8080/"
        },
        "id": "N_XLoOM969-R",
        "outputId": "6207f2fe-8591-4834-9658-879cd78eebc6"
      },
      "outputs": [
        {
          "data": {
            "text/plain": [
              "array([[13, 16],\n",
              "       [29, 36]])"
            ]
          },
          "execution_count": 4,
          "metadata": {},
          "output_type": "execute_result"
        }
      ],
      "source": [
        "strassen(X, Y)"
      ]
    },
    {
      "cell_type": "code",
      "execution_count": 69,
      "metadata": {
        "colab": {
          "base_uri": "https://localhost:8080/"
        },
        "id": "rN7e89Aff9-Y",
        "outputId": "da79b3b0-e765-4e38-ea65-beb7d52ffac9"
      },
      "outputs": [
        {
          "name": "stdout",
          "output_type": "stream",
          "text": [
            "[[1 2]\n",
            " [3 4]]\n",
            "[[1 1]\n",
            " [1 1]]\n"
          ]
        }
      ],
      "source": [
        "print(X)\n",
        "print(Y)"
      ]
    }
  ],
  "metadata": {
    "colab": {
      "provenance": []
    },
    "kernelspec": {
      "display_name": "Python 3",
      "name": "python3"
    },
    "language_info": {
      "codemirror_mode": {
        "name": "ipython",
        "version": 3
      },
      "file_extension": ".py",
      "mimetype": "text/x-python",
      "name": "python",
      "nbconvert_exporter": "python",
      "pygments_lexer": "ipython3",
      "version": "3.10.5"
    }
  },
  "nbformat": 4,
  "nbformat_minor": 0
}
